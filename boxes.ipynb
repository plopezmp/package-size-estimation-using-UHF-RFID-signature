{
 "cells": [
  {
   "cell_type": "markdown",
   "metadata": {
    "id": "PFsTYA2sKyo1"
   },
   "source": [
    "# Practical box size estimation from RFID interrogation traces using transfer learning "
   ]
  },
  {
   "cell_type": "code",
   "execution_count": null,
   "metadata": {
    "colab": {
     "base_uri": "https://localhost:8080/",
     "height": 52
    },
    "executionInfo": {
     "elapsed": 26683,
     "status": "ok",
     "timestamp": 1609089151911,
     "user": {
      "displayName": "Pablo L Matencio",
      "photoUrl": "https://lh3.googleusercontent.com/a-/AOh14GiJHDBigWr81MeEBn-xboRsB26OHwNvE9DNDonfpg=s64",
      "userId": "10949236763923831331"
     },
     "user_tz": -60
    },
    "id": "8O09dZ6tLhsm",
    "outputId": "46999d47-7492-4c82-fe53-9e25d5681581"
   },
   "outputs": [
    {
     "name": "stdout",
     "output_type": "stream",
     "text": [
      "Mounted at /content/drive\n"
     ]
    },
    {
     "data": {
      "application/vnd.google.colaboratory.intrinsic+json": {
       "type": "string"
      },
      "text/plain": [
       "'/content/drive/My Drive/Colab Notebooks/_BOX_SIZE'"
      ]
     },
     "execution_count": 1,
     "metadata": {
      "tags": []
     },
     "output_type": "execute_result"
    }
   ],
   "source": [
    "from google.colab import drive\n",
    "drive.mount('/content/drive')\n",
    "\n",
    "# Move to the directory where dataset_traces from RFID interrogation are placed\n",
    "import os\n",
    "os.chdir('/content/drive/My Drive/Colab Notebooks/_BOX_SIZE')\n",
    "\n",
    "%pwd"
   ]
  },
  {
   "cell_type": "code",
   "execution_count": null,
   "metadata": {
    "ExecuteTime": {
     "end_time": "2020-12-06T11:53:51.316293Z",
     "start_time": "2020-12-06T11:53:51.028478Z"
    },
    "colab": {
     "base_uri": "https://localhost:8080/",
     "height": 17
    },
    "executionInfo": {
     "elapsed": 2705,
     "status": "ok",
     "timestamp": 1609089158162,
     "user": {
      "displayName": "Pablo L Matencio",
      "photoUrl": "https://lh3.googleusercontent.com/a-/AOh14GiJHDBigWr81MeEBn-xboRsB26OHwNvE9DNDonfpg=s64",
      "userId": "10949236763923831331"
     },
     "user_tz": -60
    },
    "id": "Zn4nM9T2Kyo7",
    "outputId": "d85184e0-0614-4769-ce3b-44584778d0aa"
   },
   "outputs": [
    {
     "data": {
      "text/html": [
       "<style>.container { width:100% !important; }</style>"
      ],
      "text/plain": [
       "<IPython.core.display.HTML object>"
      ]
     },
     "metadata": {
      "tags": []
     },
     "output_type": "display_data"
    }
   ],
   "source": [
    "# Bibliotecas necesarias\n",
    "import numpy as np\n",
    "import random\n",
    "import os\n",
    "\n",
    "# Configuramos matplotlib\n",
    "%matplotlib inline\n",
    "import matplotlib\n",
    "import matplotlib.pyplot as plt\n",
    "plt.rcParams['axes.labelsize'] = 14\n",
    "plt.rcParams['xtick.labelsize'] = 12\n",
    "plt.rcParams['ytick.labelsize'] = 12\n",
    "\n",
    "%load_ext tensorboard\n",
    "\n",
    "# Semilla fija para reproducibilidad\n",
    "np.random.seed(1)\n",
    "\n",
    "from IPython.core.display import display, HTML\n",
    "display(HTML(\"<style>.container { width:100% !important; }</style>\"))"
   ]
  },
  {
   "cell_type": "code",
   "execution_count": null,
   "metadata": {
    "id": "igq8FZvnKyo9"
   },
   "outputs": [],
   "source": [
    "import pandas\n",
    "import pickle\n",
    "\n",
    "def change_distro(X,t,samples):  \n",
    "    newX = np.zeros(shape=[samples.sum(),X.shape[1]])\n",
    "    newt = np.zeros(shape=[samples.sum(),])\n",
    "    numsamples = 0\n",
    "    for i in range(t.max()+1):\n",
    "        aux = X[t==i]\n",
    "        newX[numsamples:numsamples+samples[i]] = aux[:samples[i]]\n",
    "        newt[numsamples:numsamples+samples[i]] = i\n",
    "        numsamples += samples[i]\n",
    "    \n",
    "    newt = newt.astype(int)\n",
    "    return newX,newt\n",
    "\n",
    "def readdataset(id, maxsize=0, debug=False):\n",
    "    picklefile = f'{id}/data.pickle'\n",
    "\n",
    "    try:\n",
    "        with open(picklefile, 'rb') as f:\n",
    "            X, t = pickle.load(f)\n",
    "            print(f'Datos ya disponibles de {picklefile}')\n",
    "    \n",
    "    except:\n",
    "        index = pandas.read_csv(f'{id}/index.{id}.txt')\n",
    "        index[\"numframes\"] = index.framelst-index.frameini+1\n",
    "        maxframes = index.numframes.max()\n",
    "        frames = pandas.read_csv(f'{id}/frames.{id}.txt')\n",
    "    \n",
    "        if maxsize>0:\n",
    "            SAMPLES = maxsize\n",
    "        else:\n",
    "            SAMPLES = len(index)\n",
    "            \n",
    "        if debug:\n",
    "            print(f'Samples: {SAMPLES}')\n",
    "            \n",
    "        X = np.zeros(shape=[SAMPLES, 23]) \n",
    "        t = np.zeros(shape=[SAMPLES, ]) \n",
    "    \n",
    "        for i in range(SAMPLES):\n",
    "            if maxsize>0:\n",
    "                batch = random.randint(0,SAMPLES-1)\n",
    "            else:\n",
    "                batch = i\n",
    "            tagsread = index.iloc[batch].tagsread\n",
    "            readtime = index.iloc[batch].readtime\n",
    "            numframes = index.iloc[batch].numframes\n",
    "            framebase = int(index.iloc[batch].frameini) \n",
    "            aux = frames.loc[framebase:framebase+numframes-1].values\n",
    "            X[i,0] = tagsread\n",
    "            X[i,1] = readtime\n",
    "            X[i,2] = numframes\n",
    "            X[i,3:8] = aux.mean(axis=0)\n",
    "            X[i,8:13] = aux.std(axis=0)\n",
    "            X[i,13:18] = aux.min(axis=0)\n",
    "            X[i,18:23] = aux.max(axis=0)\n",
    "            t[i] = index.iloc[batch].boxoriginal\n",
    "            #X[batch,3:3+numframes*5] = frames.loc[framebase:framebase+numframes-1].values.ravel()\n",
    "            if (debug) and ((i+1)%5000)==0:\n",
    "                print(f'i: {i+1}, batch: {batch}, frames: {numframes}, framebase: {framebase}, t: {t[i]}, aux: {aux}')\n",
    "        \n",
    "            t = t.astype(int)\n",
    "   \n",
    "        with open(picklefile, 'wb') as f:\n",
    "            pickle.dump([X, t], f)\n",
    "    \n",
    "        if debug: \n",
    "            frames.head(-1)\n",
    "            \n",
    "    return X,t"
   ]
  },
  {
   "cell_type": "code",
   "execution_count": null,
   "metadata": {
    "id": "rZO10j2EKyo-"
   },
   "outputs": [],
   "source": [
    "import keras\n",
    "import os\n",
    "os.environ['TF_CPP_MIN_LOG_LEVEL'] = '3' \n",
    "\n",
    "import tensorflow as tf\n",
    "from sklearn.metrics import confusion_matrix\n",
    "from sklearn.pipeline import Pipeline\n",
    "from sklearn.compose import ColumnTransformer\n",
    "from sklearn.preprocessing import Normalizer\n",
    "from sklearn.preprocessing import StandardScaler\n",
    "from sklearn.preprocessing import MinMaxScaler\n",
    "from sklearn.model_selection import train_test_split\n",
    "from keras.callbacks import ModelCheckpoint\n",
    "from keras.callbacks import EarlyStopping\n",
    "from keras.callbacks import TensorBoard\n",
    "\n",
    "def evalmodel(X,t,id,info='Full',debug=False):  \n",
    "    modelname = f'{id}/model{info}.h5'\n",
    "    \n",
    "    if info=='Tags':\n",
    "        X = X[:,0:1]\n",
    "    elif info=='Basic':\n",
    "        X = X[:,0:3]\n",
    "    # 'Full' -> Toda la info\n",
    "    \n",
    "    X_train, X_test, t_train, t_test =  train_test_split(X, t, test_size=0.8)\n",
    "    \n",
    "    standard_transformer = Pipeline(steps=[('standard', StandardScaler())])\n",
    "    minmax_transformer = Pipeline(steps=[('minmax', MinMaxScaler())])\n",
    "    preprocessor = ColumnTransformer(\n",
    "        remainder='passthrough', #passthough features not listed\n",
    "        transformers=[\n",
    "            ('std', standard_transformer , []),#slice(0,X.shape[1])),\n",
    "            ('mm', minmax_transformer , slice(0,X.shape[1]))\n",
    "        ])\n",
    "    X_train = preprocessor.fit_transform(X_train)\n",
    "    X_test = preprocessor.transform(X_test)\n",
    "    model = keras.models.Sequential([\n",
    "        keras.layers.Dense(100, activation=\"relu\", input_shape=X_train.shape[1:]),\n",
    "        keras.layers.Dense(50, activation=\"tanh\"),\n",
    "        keras.layers.Dense(int(t.max())+1, activation=\"sigmoid\")\n",
    "    ])\n",
    "    \n",
    "    try: \n",
    "        model = keras.models.load_model(modelname) # cargar modelo\n",
    "    except:\n",
    "        early_stopping_cb = EarlyStopping(patience=100, restore_best_weights=True)\n",
    "        checkpoint_cb = ModelCheckpoint(modelname, save_best_only=True)\n",
    "        tensorboard_cb = TensorBoard(f'{id}/log', histogram_freq=1)\n",
    "        model.compile(loss=\"sparse_categorical_crossentropy\", optimizer=\"adam\", metrics=[\"accuracy\"])\n",
    "        model.fit(X_train, t_train, epochs=50000\n",
    "                  , validation_data=(X_test, t_test), batch_size=32, callbacks=[early_stopping_cb, checkpoint_cb, tensorboard_cb], verbose=0)\n",
    "        model.save(modelname)\n",
    "    \n",
    "    precision = model.evaluate(X_test,t_test)[1]\n",
    "    #y_test = model.predict_classes(X_test)\n",
    "    y = np.argmax(model.predict(X_processed),axis=1)\n",
    "    conf = confusion_matrix(list(map(int,t_test)), y_test)\n",
    "    \n",
    "    return precision, conf"
   ]
  },
  {
   "cell_type": "code",
   "execution_count": null,
   "metadata": {
    "ExecuteTime": {
     "end_time": "2020-12-06T11:54:08.835091Z",
     "start_time": "2020-12-06T11:54:08.736338Z"
    },
    "colab": {
     "base_uri": "https://localhost:8080/"
    },
    "executionInfo": {
     "elapsed": 13436788,
     "status": "ok",
     "timestamp": 1609102742076,
     "user": {
      "displayName": "Pablo L Matencio",
      "photoUrl": "https://lh3.googleusercontent.com/a-/AOh14GiJHDBigWr81MeEBn-xboRsB26OHwNvE9DNDonfpg=s64",
      "userId": "10949236763923831331"
     },
     "user_tz": -60
    },
    "id": "Ux5NXwsFKyo-",
    "outputId": "c831a30f-904d-4a1d-a5c9-d1c429f69a80"
   },
   "outputs": [
    {
     "name": "stdout",
     "output_type": "stream",
     "text": [
      "Escenario: CPG, Info: Full\n",
      "500/500 [==============================] - 1s 1ms/step - loss: 1.1272 - accuracy: 0.5162\n"
     ]
    },
    {
     "name": "stderr",
     "output_type": "stream",
     "text": [
      "/usr/local/lib/python3.6/dist-packages/tensorflow/python/keras/engine/sequential.py:450: UserWarning: `model.predict_classes()` is deprecated and will be removed after 2021-01-01. Please use instead:* `np.argmax(model.predict(x), axis=-1)`,   if your model does multi-class classification   (e.g. if it uses a `softmax` last-layer activation).* `(model.predict(x) > 0.5).astype(\"int32\")`,   if your model does binary classification   (e.g. if it uses a `sigmoid` last-layer activation).\n",
      "  warnings.warn('`model.predict_classes()` is deprecated and '\n"
     ]
    },
    {
     "name": "stdout",
     "output_type": "stream",
     "text": [
      "Accuracy: 51.62%\n",
      "Confussion matrix:\n",
      "[[931  49   0   0   0   0   0   0   0   0   0   0   0   0   0   0]\n",
      " [206 679 130   1   0   0   0   0   0   0   0   0   0   0   0   0]\n",
      " [  4 124 699 168   3   0   0   0   0   0   0   0   0   0   0   0]\n",
      " [  0   4 183 603 188  27   1   0   0   0   0   0   0   0   0   0]\n",
      " [  0   0  21 278 619  59  31   4   0   0   0   0   0   0   0   0]\n",
      " [  0   0   0  14 154 657 142  27   9   9   0   0   0   0   0   0]\n",
      " [  0   0   0   2 100 206 354 215 120  33   1   0   0   0   0   0]\n",
      " [  0   0   0   0  12  73 202 275 249 164  10   0   0   0   0   0]\n",
      " [  0   0   0   0   4  12 112 160 437 170  37   2   0   0   0   0]\n",
      " [  0   0   0   0   0  11  15  64 158 535 260  13   0   0   1   0]\n",
      " [  0   0   0   0   0   0   0   7  50 259 518 106   3   1   2   0]\n",
      " [  0   0   0   0   0   0   0   0   0   8 114 576 206  40  58   5]\n",
      " [  0   0   0   0   0   0   0   0   0   2  36 326 311  87 191  66]\n",
      " [  0   0   0   0   0   0   0   0   0   0  13 175 219  74 318 180]\n",
      " [  0   0   0   0   0   0   0   0   0   0   7  81 174  86 360 306]\n",
      " [  0   0   0   0   0   0   0   0   0   0   3  13  45  49 263 631]]\n",
      "Escenario: SPG, Info: Full\n",
      "500/500 [==============================] - 0s 795us/step - loss: 0.7981 - accuracy: 0.6773\n"
     ]
    },
    {
     "name": "stderr",
     "output_type": "stream",
     "text": [
      "/usr/local/lib/python3.6/dist-packages/tensorflow/python/keras/engine/sequential.py:450: UserWarning: `model.predict_classes()` is deprecated and will be removed after 2021-01-01. Please use instead:* `np.argmax(model.predict(x), axis=-1)`,   if your model does multi-class classification   (e.g. if it uses a `softmax` last-layer activation).* `(model.predict(x) > 0.5).astype(\"int32\")`,   if your model does binary classification   (e.g. if it uses a `sigmoid` last-layer activation).\n",
      "  warnings.warn('`model.predict_classes()` is deprecated and '\n"
     ]
    },
    {
     "name": "stdout",
     "output_type": "stream",
     "text": [
      "Accuracy: 67.73%\n",
      "Confussion matrix:\n",
      "[[960  17   0   0   0   0   0   0   0   0   0   0   0   0   0   0]\n",
      " [222 790  10   0   0   0   0   0   0   0   0   0   0   0   0   0]\n",
      " [  2  30 865 142   7   0   0   0   0   0   0   0   0   0   0   0]\n",
      " [  0   0 221 687  39   2   8   0   0   0   0   0   0   0   0   0]\n",
      " [  0   0   8  52 856  16  44   9   2   0   0   0   0   0   0   0]\n",
      " [  0   0   0   1  26 931   8  45  14   0   0   0   0   0   0   0]\n",
      " [  0   0   0  10  64   5 822  46   6  47   0   0   0   0   0   0]\n",
      " [  0   0   0   0  20  15  35 560 252  43  35   0   0   0   0   0]\n",
      " [  0   0   0   0   7  12  10 146 770   4  34  15   0   1   0   2]\n",
      " [  0   0   0   0   0   0  45  61  24 655 134   1   0   1   0   0]\n",
      " [  0   0   0   0   0   1   2  44  50  99 801  44  12   1   0   1]\n",
      " [  0   0   0   0   0   0   0   0  24   0  88 411 135 208   7  69]\n",
      " [  0   0   0   0   0   0   0   0   7   0  47 152 287 354  79  73]\n",
      " [  0   0   0   0   0   0   0   0   3   0  17 128 127 430 136 188]\n",
      " [  0   0   0   0   0   0   0   0   3   0   7  72  82 404 203 277]\n",
      " [  0   0   0   0   0   0   0   0   6   0  11  43  37 112  73 749]]\n",
      "Escenario: SPM, Info: Full\n",
      "500/500 [==============================] - 0s 828us/step - loss: 0.3631 - accuracy: 0.8448\n"
     ]
    },
    {
     "name": "stderr",
     "output_type": "stream",
     "text": [
      "/usr/local/lib/python3.6/dist-packages/tensorflow/python/keras/engine/sequential.py:450: UserWarning: `model.predict_classes()` is deprecated and will be removed after 2021-01-01. Please use instead:* `np.argmax(model.predict(x), axis=-1)`,   if your model does multi-class classification   (e.g. if it uses a `softmax` last-layer activation).* `(model.predict(x) > 0.5).astype(\"int32\")`,   if your model does binary classification   (e.g. if it uses a `sigmoid` last-layer activation).\n",
      "  warnings.warn('`model.predict_classes()` is deprecated and '\n"
     ]
    },
    {
     "name": "stdout",
     "output_type": "stream",
     "text": [
      "Accuracy: 84.48%\n",
      "Confussion matrix:\n",
      "[[1996    4    0    0    0    0    0    0]\n",
      " [   8 1850   96    0    0    0    0    0]\n",
      " [   0  183 1773   94    1    0    0    0]\n",
      " [   0    2  110 1806  111    4    0    0]\n",
      " [   0    0    0  138 1718   70   46    1]\n",
      " [   0    0    0    2  128 1689  130   19]\n",
      " [   0    0    0    0   67  103 1464  445]\n",
      " [   0    0    0    0   15   33  673 1221]]\n",
      "Escenario: CPP, Info: Full\n",
      "500/500 [==============================] - 0s 824us/step - loss: 0.0360 - accuracy: 0.9866\n"
     ]
    },
    {
     "name": "stderr",
     "output_type": "stream",
     "text": [
      "/usr/local/lib/python3.6/dist-packages/tensorflow/python/keras/engine/sequential.py:450: UserWarning: `model.predict_classes()` is deprecated and will be removed after 2021-01-01. Please use instead:* `np.argmax(model.predict(x), axis=-1)`,   if your model does multi-class classification   (e.g. if it uses a `softmax` last-layer activation).* `(model.predict(x) > 0.5).astype(\"int32\")`,   if your model does binary classification   (e.g. if it uses a `sigmoid` last-layer activation).\n",
      "  warnings.warn('`model.predict_classes()` is deprecated and '\n"
     ]
    },
    {
     "name": "stdout",
     "output_type": "stream",
     "text": [
      "Accuracy: 98.66%\n",
      "Confussion matrix:\n",
      "[[3991    1    0    0]\n",
      " [   0 3976   12    0]\n",
      " [   0   10 3847  119]\n",
      " [   0    0   72 3972]]\n",
      "Escenario: SMP, Info: Full\n",
      "500/500 [==============================] - 0s 804us/step - loss: 0.0080 - accuracy: 0.9974\n"
     ]
    },
    {
     "name": "stderr",
     "output_type": "stream",
     "text": [
      "/usr/local/lib/python3.6/dist-packages/tensorflow/python/keras/engine/sequential.py:450: UserWarning: `model.predict_classes()` is deprecated and will be removed after 2021-01-01. Please use instead:* `np.argmax(model.predict(x), axis=-1)`,   if your model does multi-class classification   (e.g. if it uses a `softmax` last-layer activation).* `(model.predict(x) > 0.5).astype(\"int32\")`,   if your model does binary classification   (e.g. if it uses a `sigmoid` last-layer activation).\n",
      "  warnings.warn('`model.predict_classes()` is deprecated and '\n"
     ]
    },
    {
     "name": "stdout",
     "output_type": "stream",
     "text": [
      "Accuracy: 99.74%\n",
      "Confussion matrix:\n",
      "[[3949    1    0    0]\n",
      " [   1 4022    8    0]\n",
      " [   0    3 3945   16]\n",
      " [   0    0   12 4043]]\n",
      "Escenario: IGP, Info: Full\n",
      "500/500 [==============================] - 0s 799us/step - loss: 2.0295e-04 - accuracy: 0.9999\n"
     ]
    },
    {
     "name": "stderr",
     "output_type": "stream",
     "text": [
      "/usr/local/lib/python3.6/dist-packages/tensorflow/python/keras/engine/sequential.py:450: UserWarning: `model.predict_classes()` is deprecated and will be removed after 2021-01-01. Please use instead:* `np.argmax(model.predict(x), axis=-1)`,   if your model does multi-class classification   (e.g. if it uses a `softmax` last-layer activation).* `(model.predict(x) > 0.5).astype(\"int32\")`,   if your model does binary classification   (e.g. if it uses a `sigmoid` last-layer activation).\n",
      "  warnings.warn('`model.predict_classes()` is deprecated and '\n"
     ]
    },
    {
     "name": "stdout",
     "output_type": "stream",
     "text": [
      "Accuracy: 99.99%\n",
      "Confussion matrix:\n",
      "[[3968    0    0    0]\n",
      " [   0 4059    0    0]\n",
      " [   0    0 4020    0]\n",
      " [   0    0    1 3952]]\n",
      "Escenario: IMP, Info: Full\n",
      "500/500 [==============================] - 0s 767us/step - loss: 0.0024 - accuracy: 0.9998\n"
     ]
    },
    {
     "name": "stderr",
     "output_type": "stream",
     "text": [
      "/usr/local/lib/python3.6/dist-packages/tensorflow/python/keras/engine/sequential.py:450: UserWarning: `model.predict_classes()` is deprecated and will be removed after 2021-01-01. Please use instead:* `np.argmax(model.predict(x), axis=-1)`,   if your model does multi-class classification   (e.g. if it uses a `softmax` last-layer activation).* `(model.predict(x) > 0.5).astype(\"int32\")`,   if your model does binary classification   (e.g. if it uses a `sigmoid` last-layer activation).\n",
      "  warnings.warn('`model.predict_classes()` is deprecated and '\n"
     ]
    },
    {
     "name": "stdout",
     "output_type": "stream",
     "text": [
      "Accuracy: 99.98%\n",
      "Confussion matrix:\n",
      "[[4007    2    0    0]\n",
      " [   0 3992    0    0]\n",
      " [   0    0 4065    2]\n",
      " [   0    0    0 3932]]\n",
      "Escenario: IMG, Info: Full\n",
      "500/500 [==============================] - 0s 854us/step - loss: 0.5054 - accuracy: 0.7941\n"
     ]
    },
    {
     "name": "stderr",
     "output_type": "stream",
     "text": [
      "/usr/local/lib/python3.6/dist-packages/tensorflow/python/keras/engine/sequential.py:450: UserWarning: `model.predict_classes()` is deprecated and will be removed after 2021-01-01. Please use instead:* `np.argmax(model.predict(x), axis=-1)`,   if your model does multi-class classification   (e.g. if it uses a `softmax` last-layer activation).* `(model.predict(x) > 0.5).astype(\"int32\")`,   if your model does binary classification   (e.g. if it uses a `sigmoid` last-layer activation).\n",
      "  warnings.warn('`model.predict_classes()` is deprecated and '\n"
     ]
    },
    {
     "name": "stdout",
     "output_type": "stream",
     "text": [
      "Accuracy: 79.41%\n",
      "Confussion matrix:\n",
      "[[1051   23    0    0    0    0    0    0    0    0    0    0    0    0\n",
      "     0    0]\n",
      " [  80  927    4    0    0    1    0    0    0    0    0    0    0    0\n",
      "     0    0]\n",
      " [   2   37  760  213    0    1    0    0    0    0    0    0    0    0\n",
      "     0    0]\n",
      " [   0    1  182  808    3    1    0    0    0    0    0    0    0    0\n",
      "     0    0]\n",
      " [   0    0    4   28  851    1  100    2    0    0    0    0    0    0\n",
      "     0    0]\n",
      " [   0    0    0    0    0  989    0    0    2    0    0    0    0    0\n",
      "     0    0]\n",
      " [   0    0    0    2  111    0  756  108    1    1    0    0    0    0\n",
      "     0    0]\n",
      " [   0    0    0    0    6    0  158  690   18  150    1    0    0    0\n",
      "     0    0]\n",
      " [   0    0    0    0    1    0    0   41  906   31   26    0    1    0\n",
      "     0    0]\n",
      " [   0    0    0    0    0    0   12  195   46  568  211    0    0    0\n",
      "     0    0]\n",
      " [   0    0    0    0    0    0    0   18   50  231  673    1    0    0\n",
      "     0    0]\n",
      " [   0    0    0    0    0    0    0    0    0    0    0  566  299  103\n",
      "     6    0]\n",
      " [   0    0    0    0    0    0    0    0    0    0    0  188  723   39\n",
      "     4    0]\n",
      " [   0    0    0    0    0    0    0    0    0    0    0   58   45  686\n",
      "   202    0]\n",
      " [   0    0    0    0    0    0    0    0    0    0    0    2    3  211\n",
      "   790   20]\n",
      " [   0    0    0    0    0    0    0    0    0    0    0    0    0    0\n",
      "    10  961]]\n",
      "Escenario: CGM, Info: Full\n",
      "500/500 [==============================] - 0s 799us/step - loss: 0.5534 - accuracy: 0.7557\n"
     ]
    },
    {
     "name": "stderr",
     "output_type": "stream",
     "text": [
      "/usr/local/lib/python3.6/dist-packages/tensorflow/python/keras/engine/sequential.py:450: UserWarning: `model.predict_classes()` is deprecated and will be removed after 2021-01-01. Please use instead:* `np.argmax(model.predict(x), axis=-1)`,   if your model does multi-class classification   (e.g. if it uses a `softmax` last-layer activation).* `(model.predict(x) > 0.5).astype(\"int32\")`,   if your model does binary classification   (e.g. if it uses a `sigmoid` last-layer activation).\n",
      "  warnings.warn('`model.predict_classes()` is deprecated and '\n"
     ]
    },
    {
     "name": "stdout",
     "output_type": "stream",
     "text": [
      "Accuracy: 75.57%\n",
      "Confussion matrix:\n",
      "[[1952   14    0    0    0    0    0    0]\n",
      " [  24 1809  139    1    0    0    0    0]\n",
      " [   0  222 1362  424    2    0    0    0]\n",
      " [   0    3  296 1512  222    0    0    0]\n",
      " [   0    0    2  188 1542  235    4    0]\n",
      " [   0    0    0    4  284 1474  257   12]\n",
      " [   0    0    0    0    2  245 1179  659]\n",
      " [   0    0    0    0    0   59  611 1261]]\n",
      "Escenario: SGM, Info: Full\n",
      "500/500 [==============================] - 0s 825us/step - loss: 0.3449 - accuracy: 0.8537\n"
     ]
    },
    {
     "name": "stderr",
     "output_type": "stream",
     "text": [
      "/usr/local/lib/python3.6/dist-packages/tensorflow/python/keras/engine/sequential.py:450: UserWarning: `model.predict_classes()` is deprecated and will be removed after 2021-01-01. Please use instead:* `np.argmax(model.predict(x), axis=-1)`,   if your model does multi-class classification   (e.g. if it uses a `softmax` last-layer activation).* `(model.predict(x) > 0.5).astype(\"int32\")`,   if your model does binary classification   (e.g. if it uses a `sigmoid` last-layer activation).\n",
      "  warnings.warn('`model.predict_classes()` is deprecated and '\n"
     ]
    },
    {
     "name": "stdout",
     "output_type": "stream",
     "text": [
      "Accuracy: 85.37%\n",
      "Confussion matrix:\n",
      "[[1932    1    0    0    0    0    0    0]\n",
      " [  11 1829  129    0    0    0    0    0]\n",
      " [   0  152 1627  133    0    0    0    0]\n",
      " [   0    0  136 1796   81    6    0    0]\n",
      " [   0    0    0   66 1832  114    5    1]\n",
      " [   0    0    0    7  215 1807   29   10]\n",
      " [   0    0    0    0    3   65 1405  578]\n",
      " [   0    0    0    0    2   38  566 1424]]\n",
      "Escenario: CGG, Info: Full\n",
      "500/500 [==============================] - 0s 833us/step - loss: 1.1289 - accuracy: 0.5208\n"
     ]
    },
    {
     "name": "stderr",
     "output_type": "stream",
     "text": [
      "/usr/local/lib/python3.6/dist-packages/tensorflow/python/keras/engine/sequential.py:450: UserWarning: `model.predict_classes()` is deprecated and will be removed after 2021-01-01. Please use instead:* `np.argmax(model.predict(x), axis=-1)`,   if your model does multi-class classification   (e.g. if it uses a `softmax` last-layer activation).* `(model.predict(x) > 0.5).astype(\"int32\")`,   if your model does binary classification   (e.g. if it uses a `sigmoid` last-layer activation).\n",
      "  warnings.warn('`model.predict_classes()` is deprecated and '\n"
     ]
    },
    {
     "name": "stdout",
     "output_type": "stream",
     "text": [
      "Accuracy: 52.08%\n",
      "Confussion matrix:\n",
      "[[958  96   0   0   0   0   0   0   0   0   0   0   0   0   0   0]\n",
      " [144 665 129   0   0   0   0   0   0   0   0   0   0   0   0   0]\n",
      " [  2  94 756 176  11   0   0   0   0   0   0   0   0   0   0   0]\n",
      " [  0   2 181 553 263  24   2   0   0   0   0   0   0   0   0   0]\n",
      " [  0   1  17 186 644  56  79   4   0   0   0   0   0   0   0   0]\n",
      " [  0   0   0  36 144 683 101  50   0  11   0   0   0   0   0   0]\n",
      " [  0   0   0   2  66 199 350 262  80  23   0   0   0   0   0   0]\n",
      " [  0   0   0   0   9  80 183 278 221 171   8   0   0   0   0   0]\n",
      " [  0   0   0   0   2   6 119 204 413 182  47   0   0   0   0   0]\n",
      " [  0   0   0   0   0   7  10 112 134 506 232  22   0   0   0   0]\n",
      " [  0   0   0   0   0   0   1  13  63 243 545 123   8   0   0   0]\n",
      " [  0   0   0   0   0   0   0   0   0  10 123 647 130  34  66   2]\n",
      " [  0   0   0   0   0   0   0   0   0   0  34 421 199  75 247  29]\n",
      " [  0   0   0   0   0   0   0   0   0   0  14 253 207  95 342  93]\n",
      " [  0   0   0   0   0   0   0   0   0   0   6 124 118  77 423 245]\n",
      " [  0   0   0   0   0   0   0   0   0   0   0  19  18  23 320 614]]\n",
      "Escenario: IPG, Info: Full\n",
      "500/500 [==============================] - 0s 802us/step - loss: 0.6414 - accuracy: 0.7362\n"
     ]
    },
    {
     "name": "stderr",
     "output_type": "stream",
     "text": [
      "/usr/local/lib/python3.6/dist-packages/tensorflow/python/keras/engine/sequential.py:450: UserWarning: `model.predict_classes()` is deprecated and will be removed after 2021-01-01. Please use instead:* `np.argmax(model.predict(x), axis=-1)`,   if your model does multi-class classification   (e.g. if it uses a `softmax` last-layer activation).* `(model.predict(x) > 0.5).astype(\"int32\")`,   if your model does binary classification   (e.g. if it uses a `sigmoid` last-layer activation).\n",
      "  warnings.warn('`model.predict_classes()` is deprecated and '\n"
     ]
    },
    {
     "name": "stdout",
     "output_type": "stream",
     "text": [
      "Accuracy: 73.62%\n",
      "Confussion matrix:\n",
      "[[976  35   0   0   0   0   0   0   0   0   0   0   0   0   0   0]\n",
      " [118 882   5   0   0   0   0   0   0   0   0   0   0   0   0   0]\n",
      " [  0  16 809 171   4   0   0   0   0   0   0   0   0   0   0   0]\n",
      " [  0   1 221 786  12   0   2   0   0   0   0   0   0   0   0   0]\n",
      " [  0   0   2  15 903   1  65  21   0   0   0   0   0   0   0   0]\n",
      " [  0   0   0   0   0 998   0   0   2   0   0   0   0   0   0   0]\n",
      " [  0   0   0   4  62   0 850   3   0  40   0   0   0   0   0   0]\n",
      " [  0   0   0   0  12   0   9 890  16  19  42   0   0   0   0   0]\n",
      " [  0   0   0   0   0   6   0  45 892   0  10  36   0   0   0   7]\n",
      " [  0   0   0   0   2   0  26  70   1 844  57   0   0   0   0   0]\n",
      " [  0   0   0   0   0   0   0  98  11  63 847   0   2   0   0   2]\n",
      " [  0   0   0   0   0   1   0   0  49   0   0 550 148  68  39 164]\n",
      " [  0   0   0   0   0   0   0   0  10   0   0 279 409 105 111  72]\n",
      " [  0   0   0   0   0   0   0   0   8   0   0 169 118 171 163 327]\n",
      " [  0   0   0   0   0   0   0   0   3   0   0 120  91 136 158 465]\n",
      " [  0   0   0   0   0   0   0   0   6   0   0  81  23  42  92 811]]\n",
      "Escenario: SGG, Info: Full\n",
      "500/500 [==============================] - 0s 827us/step - loss: 0.6339 - accuracy: 0.7361\n"
     ]
    },
    {
     "name": "stderr",
     "output_type": "stream",
     "text": [
      "/usr/local/lib/python3.6/dist-packages/tensorflow/python/keras/engine/sequential.py:450: UserWarning: `model.predict_classes()` is deprecated and will be removed after 2021-01-01. Please use instead:* `np.argmax(model.predict(x), axis=-1)`,   if your model does multi-class classification   (e.g. if it uses a `softmax` last-layer activation).* `(model.predict(x) > 0.5).astype(\"int32\")`,   if your model does binary classification   (e.g. if it uses a `sigmoid` last-layer activation).\n",
      "  warnings.warn('`model.predict_classes()` is deprecated and '\n"
     ]
    },
    {
     "name": "stdout",
     "output_type": "stream",
     "text": [
      "Accuracy: 73.61%\n",
      "Confussion matrix:\n",
      "[[940  16   0   0   0   0   0   0   0   0   0   0   0   0   0   0]\n",
      " [227 752  25   0   0   0   0   0   0   0   0   0   0   0   0   0]\n",
      " [  1  48 832 163   0   0   0   0   0   0   0   0   0   0   0   0]\n",
      " [  0   4 202 677  88   0  15   0   0   0   0   0   0   0   0   0]\n",
      " [  0   0   3 139 775  14  25  19   0   0   0   0   0   0   0   0]\n",
      " [  0   0   0   0  17 995   4   1   1   1   0   0   0   0   0   0]\n",
      " [  0   0   0  12  58   6 750  94  53  38   1   0   0   0   0   0]\n",
      " [  0   0   0   0  21   9 149 647 136  26  45   0   0   0   0   0]\n",
      " [  0   0   0   0   2   0  71 104 726  71  34   1   0   0   0   0]\n",
      " [  0   0   0   0   0   4  54   8 141 662 141   7   0   0   0   0]\n",
      " [  0   0   0   0   0   0   0  22  59 108 777  22   7   0   0   0]\n",
      " [  0   0   0   0   0   0   0   0   5  10  32 515 305  55  58   0]\n",
      " [  0   0   0   0   0   0   0   0   1   1  28 184 607  50 111   2]\n",
      " [  0   0   0   0   0   0   0   0   0   0   3  61 114 380 406  15]\n",
      " [  0   0   0   0   0   0   0   0   0   0   2  11  28 114 747  68]\n",
      " [  0   0   0   0   0   0   0   0   0   0   2   0   0   0 414 621]]\n",
      "Escenario: SMM, Info: Full\n",
      "500/500 [==============================] - 0s 821us/step - loss: 0.3123 - accuracy: 0.8626\n"
     ]
    },
    {
     "name": "stderr",
     "output_type": "stream",
     "text": [
      "/usr/local/lib/python3.6/dist-packages/tensorflow/python/keras/engine/sequential.py:450: UserWarning: `model.predict_classes()` is deprecated and will be removed after 2021-01-01. Please use instead:* `np.argmax(model.predict(x), axis=-1)`,   if your model does multi-class classification   (e.g. if it uses a `softmax` last-layer activation).* `(model.predict(x) > 0.5).astype(\"int32\")`,   if your model does binary classification   (e.g. if it uses a `sigmoid` last-layer activation).\n",
      "  warnings.warn('`model.predict_classes()` is deprecated and '\n"
     ]
    },
    {
     "name": "stdout",
     "output_type": "stream",
     "text": [
      "Accuracy: 86.26%\n",
      "Confussion matrix:\n",
      "[[2001    5    0    0    0    0    0    0]\n",
      " [  15 1860  126    0    0    0    0    0]\n",
      " [   0  177 1712   92    0    0    0    0]\n",
      " [   0    0   93 1827   84    8    0    0]\n",
      " [   0    0    1   55 1765  149    9    0]\n",
      " [   0    0    0    5  113 1881   27    5]\n",
      " [   0    0    0    0    6   23 1415  580]\n",
      " [   0    0    0    0    0    6  619 1341]]\n",
      "Escenario: SGP, Info: Full\n",
      "500/500 [==============================] - 0s 835us/step - loss: 0.0206 - accuracy: 0.9948\n"
     ]
    },
    {
     "name": "stderr",
     "output_type": "stream",
     "text": [
      "/usr/local/lib/python3.6/dist-packages/tensorflow/python/keras/engine/sequential.py:450: UserWarning: `model.predict_classes()` is deprecated and will be removed after 2021-01-01. Please use instead:* `np.argmax(model.predict(x), axis=-1)`,   if your model does multi-class classification   (e.g. if it uses a `softmax` last-layer activation).* `(model.predict(x) > 0.5).astype(\"int32\")`,   if your model does binary classification   (e.g. if it uses a `sigmoid` last-layer activation).\n",
      "  warnings.warn('`model.predict_classes()` is deprecated and '\n"
     ]
    },
    {
     "name": "stdout",
     "output_type": "stream",
     "text": [
      "Accuracy: 99.48%\n",
      "Confussion matrix:\n",
      "[[3921    8    0    0]\n",
      " [   0 3991    5    0]\n",
      " [   0   14 4037   21]\n",
      " [   0    0   35 3968]]\n",
      "Escenario: IGM, Info: Full\n",
      "500/500 [==============================] - 0s 807us/step - loss: 0.2470 - accuracy: 0.8956\n"
     ]
    },
    {
     "name": "stderr",
     "output_type": "stream",
     "text": [
      "/usr/local/lib/python3.6/dist-packages/tensorflow/python/keras/engine/sequential.py:450: UserWarning: `model.predict_classes()` is deprecated and will be removed after 2021-01-01. Please use instead:* `np.argmax(model.predict(x), axis=-1)`,   if your model does multi-class classification   (e.g. if it uses a `softmax` last-layer activation).* `(model.predict(x) > 0.5).astype(\"int32\")`,   if your model does binary classification   (e.g. if it uses a `sigmoid` last-layer activation).\n",
      "  warnings.warn('`model.predict_classes()` is deprecated and '\n"
     ]
    },
    {
     "name": "stdout",
     "output_type": "stream",
     "text": [
      "Accuracy: 89.56%\n",
      "Confussion matrix:\n",
      "[[1978    3    1    0    0    0    0    0]\n",
      " [   5 1903   92    1    0    0    0    0]\n",
      " [   0   98 1868   41    0    0    0    0]\n",
      " [   0    0   84 1932    4    2    0    0]\n",
      " [   0    0    0   13 1860  130    3    0]\n",
      " [   0    0    0    2  166 1766    1    0]\n",
      " [   0    0    0    0    2    1 1626  414]\n",
      " [   0    0    0    0    0    1  606 1397]]\n",
      "Escenario: IPP, Info: Full\n",
      "500/500 [==============================] - 0s 832us/step - loss: 0.0014 - accuracy: 0.9996\n"
     ]
    },
    {
     "name": "stderr",
     "output_type": "stream",
     "text": [
      "/usr/local/lib/python3.6/dist-packages/tensorflow/python/keras/engine/sequential.py:450: UserWarning: `model.predict_classes()` is deprecated and will be removed after 2021-01-01. Please use instead:* `np.argmax(model.predict(x), axis=-1)`,   if your model does multi-class classification   (e.g. if it uses a `softmax` last-layer activation).* `(model.predict(x) > 0.5).astype(\"int32\")`,   if your model does binary classification   (e.g. if it uses a `sigmoid` last-layer activation).\n",
      "  warnings.warn('`model.predict_classes()` is deprecated and '\n"
     ]
    },
    {
     "name": "stdout",
     "output_type": "stream",
     "text": [
      "Accuracy: 99.96%\n",
      "Confussion matrix:\n",
      "[[3861    0    0    0]\n",
      " [   0 4061    2    0]\n",
      " [   0    5 4058    0]\n",
      " [   0    0    0 4013]]\n",
      "Escenario: IGG, Info: Full\n",
      "500/500 [==============================] - 0s 798us/step - loss: 0.5693 - accuracy: 0.7559\n"
     ]
    },
    {
     "name": "stderr",
     "output_type": "stream",
     "text": [
      "/usr/local/lib/python3.6/dist-packages/tensorflow/python/keras/engine/sequential.py:450: UserWarning: `model.predict_classes()` is deprecated and will be removed after 2021-01-01. Please use instead:* `np.argmax(model.predict(x), axis=-1)`,   if your model does multi-class classification   (e.g. if it uses a `softmax` last-layer activation).* `(model.predict(x) > 0.5).astype(\"int32\")`,   if your model does binary classification   (e.g. if it uses a `sigmoid` last-layer activation).\n",
      "  warnings.warn('`model.predict_classes()` is deprecated and '\n"
     ]
    },
    {
     "name": "stdout",
     "output_type": "stream",
     "text": [
      "Accuracy: 75.59%\n",
      "Confussion matrix:\n",
      "[[ 996   14    0    0    0    0    0    0    0    0    0    0    0    0\n",
      "     0    0]\n",
      " [ 101  889    2    1    0    0    0    0    0    0    0    0    0    0\n",
      "     0    0]\n",
      " [   1   43  777  127    0    0    0    0    0    0    0    0    0    0\n",
      "     0    0]\n",
      " [   0    3  218  782   34    0    0    0    0    0    0    0    0    0\n",
      "     0    0]\n",
      " [   0    0    0   19  956    0   56    4    2    0    0    0    0    0\n",
      "     0    0]\n",
      " [   0    0    0    0    0 1016    0    0    3    0    0    0    0    0\n",
      "     0    0]\n",
      " [   0    0    0    0   34    0  641  266   26    1    2    0    0    0\n",
      "     0    0]\n",
      " [   0    0    0    0    8    0  262  679   21    1   21    0    0    0\n",
      "     0    0]\n",
      " [   0    0    0    0    0    0   27   27  643  188   66    0    1    0\n",
      "     0    0]\n",
      " [   0    0    0    0    0    0   12   15  286  470  266    0    0    0\n",
      "     0    0]\n",
      " [   0    0    0    0    0    0    5   11   59  169  811    0    3    0\n",
      "     0    0]\n",
      " [   0    0    0    0    0    1    0    0    0    0    0  687  170  114\n",
      "     8    0]\n",
      " [   0    0    0    0    0    0    0    0    0    0    1  312  609   91\n",
      "     0    0]\n",
      " [   0    0    0    0    0    0    0    0    0    0    0  153  125  486\n",
      "   214    1]\n",
      " [   0    0    0    0    0    0    0    0    0    0    0   29   20  245\n",
      "   691   16]\n",
      " [   0    0    0    0    0    0    0    0    0    0    0    0    0    0\n",
      "   743  219]]\n",
      "Escenario: CMG, Info: Full\n",
      "500/500 [==============================] - 0s 838us/step - loss: 1.1307 - accuracy: 0.5220\n"
     ]
    },
    {
     "name": "stderr",
     "output_type": "stream",
     "text": [
      "/usr/local/lib/python3.6/dist-packages/tensorflow/python/keras/engine/sequential.py:450: UserWarning: `model.predict_classes()` is deprecated and will be removed after 2021-01-01. Please use instead:* `np.argmax(model.predict(x), axis=-1)`,   if your model does multi-class classification   (e.g. if it uses a `softmax` last-layer activation).* `(model.predict(x) > 0.5).astype(\"int32\")`,   if your model does binary classification   (e.g. if it uses a `sigmoid` last-layer activation).\n",
      "  warnings.warn('`model.predict_classes()` is deprecated and '\n"
     ]
    },
    {
     "name": "stdout",
     "output_type": "stream",
     "text": [
      "Accuracy: 52.20%\n",
      "Confussion matrix:\n",
      "[[940  89   0   0   0   0   0   0   0   0   0   0   0   0   0   0]\n",
      " [134 687 123   1   0   0   0   0   0   0   0   0   0   0   0   0]\n",
      " [  0 105 769 132   4   0   0   0   0   0   0   0   0   0   0   0]\n",
      " [  0   3 240 485 194  21   1   0   0   0   0   0   0   0   0   0]\n",
      " [  0   0  27 247 607  53  42   8   0   0   0   0   0   0   0   0]\n",
      " [  0   0   1  31 139 723  74  65   4   6   0   0   0   0   0   0]\n",
      " [  0   0   0   4  96 234 208 312  75  30   0   0   0   0   0   0]\n",
      " [  0   0   0   0  19 112 106 391 242 138   9   0   0   0   0   0]\n",
      " [  0   0   0   0   7  16  58 272 433 194  44   0   0   0   0   0]\n",
      " [  0   0   0   0   0   9  10  81 150 480 280  22   1   0   0   0]\n",
      " [  0   0   0   0   0   3   0   6  47 220 563  90  18   7   1   0]\n",
      " [  0   0   0   0   0   0   0   0   0   7 129 440 244 110   1   7]\n",
      " [  0   0   0   0   0   0   0   0   0   1  32 233 349 313  35  65]\n",
      " [  0   0   0   0   0   0   0   0   0   0  12 121 237 389  55 212]\n",
      " [  0   0   0   0   0   0   0   0   0   0   3  42 153 353  71 389]\n",
      " [  0   0   0   0   0   0   0   0   0   0   0   2  28 164  44 816]]\n",
      "Escenario: CPM, Info: Full\n",
      "500/500 [==============================] - 0s 876us/step - loss: 0.5181 - accuracy: 0.7653\n"
     ]
    },
    {
     "name": "stderr",
     "output_type": "stream",
     "text": [
      "/usr/local/lib/python3.6/dist-packages/tensorflow/python/keras/engine/sequential.py:450: UserWarning: `model.predict_classes()` is deprecated and will be removed after 2021-01-01. Please use instead:* `np.argmax(model.predict(x), axis=-1)`,   if your model does multi-class classification   (e.g. if it uses a `softmax` last-layer activation).* `(model.predict(x) > 0.5).astype(\"int32\")`,   if your model does binary classification   (e.g. if it uses a `sigmoid` last-layer activation).\n",
      "  warnings.warn('`model.predict_classes()` is deprecated and '\n"
     ]
    },
    {
     "name": "stdout",
     "output_type": "stream",
     "text": [
      "Accuracy: 76.53%\n",
      "Confussion matrix:\n",
      "[[1950   23    0    0    0    0    0    0]\n",
      " [   9 1897  123    0    0    0    0    0]\n",
      " [   0  218 1421  352    0    0    0    0]\n",
      " [   0    0  310 1448  185    2    0    0]\n",
      " [   0    0    0  157 1591  216    0    0]\n",
      " [   0    0    0    0  251 1577  229   37]\n",
      " [   0    0    0    0    0  239  912  845]\n",
      " [   0    0    0    0    0   74  485 1449]]\n",
      "Escenario: CMP, Info: Full\n",
      "500/500 [==============================] - 0s 836us/step - loss: 0.0378 - accuracy: 0.9865\n"
     ]
    },
    {
     "name": "stderr",
     "output_type": "stream",
     "text": [
      "/usr/local/lib/python3.6/dist-packages/tensorflow/python/keras/engine/sequential.py:450: UserWarning: `model.predict_classes()` is deprecated and will be removed after 2021-01-01. Please use instead:* `np.argmax(model.predict(x), axis=-1)`,   if your model does multi-class classification   (e.g. if it uses a `softmax` last-layer activation).* `(model.predict(x) > 0.5).astype(\"int32\")`,   if your model does binary classification   (e.g. if it uses a `sigmoid` last-layer activation).\n",
      "  warnings.warn('`model.predict_classes()` is deprecated and '\n"
     ]
    },
    {
     "name": "stdout",
     "output_type": "stream",
     "text": [
      "Accuracy: 98.65%\n",
      "Confussion matrix:\n",
      "[[4042    1    0    0]\n",
      " [   1 4101    9    0]\n",
      " [   0    8 3846  104]\n",
      " [   0    0   93 3795]]\n",
      "Escenario: CGP, Info: Full\n",
      "500/500 [==============================] - 0s 800us/step - loss: 0.0350 - accuracy: 0.9871\n"
     ]
    },
    {
     "name": "stderr",
     "output_type": "stream",
     "text": [
      "/usr/local/lib/python3.6/dist-packages/tensorflow/python/keras/engine/sequential.py:450: UserWarning: `model.predict_classes()` is deprecated and will be removed after 2021-01-01. Please use instead:* `np.argmax(model.predict(x), axis=-1)`,   if your model does multi-class classification   (e.g. if it uses a `softmax` last-layer activation).* `(model.predict(x) > 0.5).astype(\"int32\")`,   if your model does binary classification   (e.g. if it uses a `sigmoid` last-layer activation).\n",
      "  warnings.warn('`model.predict_classes()` is deprecated and '\n"
     ]
    },
    {
     "name": "stdout",
     "output_type": "stream",
     "text": [
      "Accuracy: 98.71%\n",
      "Confussion matrix:\n",
      "[[4058    4    0    0]\n",
      " [   0 4051    5    0]\n",
      " [   0   21 3819   75]\n",
      " [   0    0  101 3866]]\n",
      "Escenario: SPP, Info: Full\n",
      "500/500 [==============================] - 0s 883us/step - loss: 0.0130 - accuracy: 0.9956\n"
     ]
    },
    {
     "name": "stderr",
     "output_type": "stream",
     "text": [
      "/usr/local/lib/python3.6/dist-packages/tensorflow/python/keras/engine/sequential.py:450: UserWarning: `model.predict_classes()` is deprecated and will be removed after 2021-01-01. Please use instead:* `np.argmax(model.predict(x), axis=-1)`,   if your model does multi-class classification   (e.g. if it uses a `softmax` last-layer activation).* `(model.predict(x) > 0.5).astype(\"int32\")`,   if your model does binary classification   (e.g. if it uses a `sigmoid` last-layer activation).\n",
      "  warnings.warn('`model.predict_classes()` is deprecated and '\n"
     ]
    },
    {
     "name": "stdout",
     "output_type": "stream",
     "text": [
      "Accuracy: 99.56%\n",
      "Confussion matrix:\n",
      "[[3952    2    0    0]\n",
      " [   4 4054    5    0]\n",
      " [   0    3 3936   32]\n",
      " [   0    0   24 3988]]\n",
      "Escenario: IPM, Info: Full\n",
      "500/500 [==============================] - 0s 799us/step - loss: 0.2475 - accuracy: 0.8888\n"
     ]
    },
    {
     "name": "stderr",
     "output_type": "stream",
     "text": [
      "/usr/local/lib/python3.6/dist-packages/tensorflow/python/keras/engine/sequential.py:450: UserWarning: `model.predict_classes()` is deprecated and will be removed after 2021-01-01. Please use instead:* `np.argmax(model.predict(x), axis=-1)`,   if your model does multi-class classification   (e.g. if it uses a `softmax` last-layer activation).* `(model.predict(x) > 0.5).astype(\"int32\")`,   if your model does binary classification   (e.g. if it uses a `sigmoid` last-layer activation).\n",
      "  warnings.warn('`model.predict_classes()` is deprecated and '\n"
     ]
    },
    {
     "name": "stdout",
     "output_type": "stream",
     "text": [
      "Accuracy: 88.88%\n",
      "Confussion matrix:\n",
      "[[2010    0    0    0    0    0    0    0]\n",
      " [   4 1872  102    1    0    0    0    0]\n",
      " [   0  152 1835    7    0    0    0    0]\n",
      " [   0    0   15 1916   12   14    0    0]\n",
      " [   0    0    0   19 1829   55   73    1]\n",
      " [   0    0    0   22   29 1987    0    1]\n",
      " [   0    0    0    0   80    0 1303  643]\n",
      " [   0    0    0    0   14    0  536 1468]]\n",
      "Escenario: CMM, Info: Full\n",
      "500/500 [==============================] - 0s 789us/step - loss: 0.5414 - accuracy: 0.7572\n"
     ]
    },
    {
     "name": "stderr",
     "output_type": "stream",
     "text": [
      "/usr/local/lib/python3.6/dist-packages/tensorflow/python/keras/engine/sequential.py:450: UserWarning: `model.predict_classes()` is deprecated and will be removed after 2021-01-01. Please use instead:* `np.argmax(model.predict(x), axis=-1)`,   if your model does multi-class classification   (e.g. if it uses a `softmax` last-layer activation).* `(model.predict(x) > 0.5).astype(\"int32\")`,   if your model does binary classification   (e.g. if it uses a `sigmoid` last-layer activation).\n",
      "  warnings.warn('`model.predict_classes()` is deprecated and '\n"
     ]
    },
    {
     "name": "stdout",
     "output_type": "stream",
     "text": [
      "Accuracy: 75.72%\n",
      "Confussion matrix:\n",
      "[[2012   12    0    0    0    0    0    0]\n",
      " [  32 1830  148    0    0    0    0    0]\n",
      " [   0  194 1599  230    1    0    0    0]\n",
      " [   0    2  468 1326  181    0    0    0]\n",
      " [   0    0    2  189 1531  232    2    0]\n",
      " [   0    0    0    0  271 1433  284   54]\n",
      " [   0    0    0    0    1  240  995  739]\n",
      " [   0    0    0    0    0   43  561 1388]]\n",
      "Escenario: SMG, Info: Full\n",
      "500/500 [==============================] - 0s 829us/step - loss: 0.6240 - accuracy: 0.7407\n"
     ]
    },
    {
     "name": "stderr",
     "output_type": "stream",
     "text": [
      "/usr/local/lib/python3.6/dist-packages/tensorflow/python/keras/engine/sequential.py:450: UserWarning: `model.predict_classes()` is deprecated and will be removed after 2021-01-01. Please use instead:* `np.argmax(model.predict(x), axis=-1)`,   if your model does multi-class classification   (e.g. if it uses a `softmax` last-layer activation).* `(model.predict(x) > 0.5).astype(\"int32\")`,   if your model does binary classification   (e.g. if it uses a `sigmoid` last-layer activation).\n",
      "  warnings.warn('`model.predict_classes()` is deprecated and '\n"
     ]
    },
    {
     "name": "stdout",
     "output_type": "stream",
     "text": [
      "Accuracy: 74.07%\n",
      "Confussion matrix:\n",
      "[[913  75   0   0   0   0   0   0   0   0   0   0   0   0   0   0]\n",
      " [ 94 868  18   3   4   0   0   0   0   0   0   0   0   0   0   0]\n",
      " [  2  69 705 186   4   0   0   0   0   0   0   0   0   0   0   0]\n",
      " [  0   2 159 799  41   0  20   0   0   0   0   0   0   0   0   0]\n",
      " [  0   0   5  79 830   0  70  10   0   0   0   0   0   0   0   0]\n",
      " [  0   0   0   0   0 980   0   0   2   0   0   0   0   0   0   0]\n",
      " [  0   0   0  12  60   0 790  98  10  23   0   0   0   0   0   0]\n",
      " [  0   0   0   0  13   0 119 632 110  42  48   0   0   0   0   0]\n",
      " [  0   0   0   0   1   0  12 138 764  51  55   3   1   0   0   0]\n",
      " [  0   0   0   0   0   1  47  95  84 596 151   3   0   0   0   0]\n",
      " [  0   0   0   0   0   0   1  26  39 109 772  21   5   0   0   0]\n",
      " [  0   0   0   0   0   2   0   0   2   1  19 613 225 144  18   1]\n",
      " [  0   0   0   0   0   0   0   0   0   0   4 329 565 119  25   1]\n",
      " [  0   0   0   0   0   0   0   0   0   0   0  65  71 510 319  33]\n",
      " [  0   0   0   0   0   1   0   0   0   0   0   8   4 220 596 183]\n",
      " [  0   0   0   0   0   0   0   0   0   0   0   0   0  16 312 724]]\n",
      "Escenario: IMM, Info: Full\n",
      "500/500 [==============================] - 0s 845us/step - loss: 0.2386 - accuracy: 0.8972\n"
     ]
    },
    {
     "name": "stderr",
     "output_type": "stream",
     "text": [
      "/usr/local/lib/python3.6/dist-packages/tensorflow/python/keras/engine/sequential.py:450: UserWarning: `model.predict_classes()` is deprecated and will be removed after 2021-01-01. Please use instead:* `np.argmax(model.predict(x), axis=-1)`,   if your model does multi-class classification   (e.g. if it uses a `softmax` last-layer activation).* `(model.predict(x) > 0.5).astype(\"int32\")`,   if your model does binary classification   (e.g. if it uses a `sigmoid` last-layer activation).\n",
      "  warnings.warn('`model.predict_classes()` is deprecated and '\n"
     ]
    },
    {
     "name": "stdout",
     "output_type": "stream",
     "text": [
      "Accuracy: 89.72%\n",
      "Confussion matrix:\n",
      "[[2065    0    0    0    3    0    0    0]\n",
      " [   3 1876   86    0    4    0    0    0]\n",
      " [   0  142 1804   14    2    0    0    0]\n",
      " [   0    1   33 2020    8    9    0    0]\n",
      " [   0    0    0    8 1885  116    2    0]\n",
      " [   0    0    0    6   95 1848    1    1]\n",
      " [   0    0    0    0    0    0 1560  474]\n",
      " [   0    0    0    0    1    0  633 1300]]\n",
      "Escenario: CPG, Info: Basic\n",
      "Datos ya disponibles de CPG/data.pickle\n",
      "500/500 [==============================] - 0s 811us/step - loss: 1.1590 - accuracy: 0.4944\n"
     ]
    },
    {
     "name": "stderr",
     "output_type": "stream",
     "text": [
      "/usr/local/lib/python3.6/dist-packages/tensorflow/python/keras/engine/sequential.py:450: UserWarning: `model.predict_classes()` is deprecated and will be removed after 2021-01-01. Please use instead:* `np.argmax(model.predict(x), axis=-1)`,   if your model does multi-class classification   (e.g. if it uses a `softmax` last-layer activation).* `(model.predict(x) > 0.5).astype(\"int32\")`,   if your model does binary classification   (e.g. if it uses a `sigmoid` last-layer activation).\n",
      "  warnings.warn('`model.predict_classes()` is deprecated and '\n"
     ]
    },
    {
     "name": "stdout",
     "output_type": "stream",
     "text": [
      "Accuracy: 49.44%\n",
      "Confussion matrix:\n",
      "[[963   1   0   0   0   0   0   0   0   0   0   0   0   0   0   0]\n",
      " [517 446  22   0   0   0   0   0   0   0   0   0   0   0   0   0]\n",
      " [ 17 250 566 163   0   0   0   0   0   0   0   0   0   0   0   0]\n",
      " [  0   6 224 610 166  11   1   0   0   0   0   0   0   0   0   0]\n",
      " [  0   1  17 311 441 175  52   1   0   0   0   0   0   0   0   0]\n",
      " [  0   0   0  46 165 580 191  27   9   1   0   0   0   0   0   0]\n",
      " [  0   0   0   3  44 206 460 162 138  22   0   0   0   0   0   0]\n",
      " [  0   0   0   0   1  86 220 223 340 118   9   0   0   0   0   0]\n",
      " [  0   0   0   0   2  10 122 177 501 125  36   0   0   0   0   0]\n",
      " [  0   0   0   0   0   7  12  77 273 433 214  12   0   0   0   0]\n",
      " [  0   0   0   0   0   2   0   8 106 274 452 137   5   0   0   0]\n",
      " [  0   0   0   0   0   0   0   0   1   6 108 562 225   0  99   5]\n",
      " [  0   0   0   0   0   0   0   0   0   0  21 354 339   0 265  58]\n",
      " [  0   0   0   0   0   0   0   0   0   0   6 178 284   1 386 145]\n",
      " [  0   0   0   0   0   0   0   0   0   0   6  85 218   1 416 252]\n",
      " [  0   0   0   0   0   0   0   0   0   0   0  22  83   0 325 552]]\n",
      "Escenario: SPG, Info: Basic\n",
      "Datos ya disponibles de SPG/data.pickle\n",
      "500/500 [==============================] - 0s 824us/step - loss: 1.1593 - accuracy: 0.5030\n"
     ]
    },
    {
     "name": "stderr",
     "output_type": "stream",
     "text": [
      "/usr/local/lib/python3.6/dist-packages/tensorflow/python/keras/engine/sequential.py:450: UserWarning: `model.predict_classes()` is deprecated and will be removed after 2021-01-01. Please use instead:* `np.argmax(model.predict(x), axis=-1)`,   if your model does multi-class classification   (e.g. if it uses a `softmax` last-layer activation).* `(model.predict(x) > 0.5).astype(\"int32\")`,   if your model does binary classification   (e.g. if it uses a `sigmoid` last-layer activation).\n",
      "  warnings.warn('`model.predict_classes()` is deprecated and '\n"
     ]
    },
    {
     "name": "stdout",
     "output_type": "stream",
     "text": [
      "Accuracy: 50.30%\n",
      "Confussion matrix:\n",
      "[[954   2   0   0   0   0   0   0   0   0   0   0   0   0   0   0]\n",
      " [555 431  62   0   0   0   0   0   0   0   0   0   0   0   0   0]\n",
      " [ 16 167 669 190   3   0   0   0   0   0   0   0   0   0   0   0]\n",
      " [  0   5 189 532 253   0   2   0   0   0   0   0   0   0   0   0]\n",
      " [  0   0  13 245 648   3  88   1   0   0   0   0   0   0   0   0]\n",
      " [  0   0   1  10 213 517 271  11   4   0   0   0   0   0   0   0]\n",
      " [  0   0   0   2 102   1 666 161  18  33   1   0   0   0   0   0]\n",
      " [  0   0   0   0  13   4 386 299  62 153  11   1   0   0   0   0]\n",
      " [  0   0   0   0   2  11 123 173 392 195  35  35   0   0   0   1]\n",
      " [  0   0   0   0   0   0  28 135  28 457 255  11   0   0   0   0]\n",
      " [  0   0   0   0   0   0   3  30  32 225 618 101  23   8   0   0]\n",
      " [  0   0   0   0   0   0   0   0  38   3 129 337 196 211  37  27]\n",
      " [  0   0   0   0   0   0   0   0   8   0  50 146 249 369 149  49]\n",
      " [  0   0   0   0   0   0   0   0  11   0  17 159 193 349 230  93]\n",
      " [  0   0   0   0   0   0   0   0   6   0   6 136 139 336 243 164]\n",
      " [  0   0   0   0   0   0   0   0  37   0   0 165  38 238 185 368]]\n",
      "Escenario: SPM, Info: Basic\n",
      "Datos ya disponibles de SPM/data.pickle\n",
      "500/500 [==============================] - 0s 792us/step - loss: 0.5050 - accuracy: 0.7764\n"
     ]
    },
    {
     "name": "stderr",
     "output_type": "stream",
     "text": [
      "/usr/local/lib/python3.6/dist-packages/tensorflow/python/keras/engine/sequential.py:450: UserWarning: `model.predict_classes()` is deprecated and will be removed after 2021-01-01. Please use instead:* `np.argmax(model.predict(x), axis=-1)`,   if your model does multi-class classification   (e.g. if it uses a `softmax` last-layer activation).* `(model.predict(x) > 0.5).astype(\"int32\")`,   if your model does binary classification   (e.g. if it uses a `sigmoid` last-layer activation).\n",
      "  warnings.warn('`model.predict_classes()` is deprecated and '\n"
     ]
    },
    {
     "name": "stdout",
     "output_type": "stream",
     "text": [
      "Accuracy: 77.64%\n",
      "Confussion matrix:\n",
      "[[2007    6    0    0    0    0    0    0]\n",
      " [  31 1737  161    0    0    0    0    0]\n",
      " [   0  156 1519  356    1    0    0    0]\n",
      " [   0    1  310 1535  146    0    0    0]\n",
      " [   0    0    0  142 1626  161   89    1]\n",
      " [   0    0    0    0  235 1485  229   23]\n",
      " [   0    0    0    0  103  128 1280  558]\n",
      " [   0    0    0    0   11   48  679 1236]]\n",
      "Escenario: CPP, Info: Basic\n",
      "Datos ya disponibles de CPP/data.pickle\n",
      "500/500 [==============================] - 0s 827us/step - loss: 0.0382 - accuracy: 0.9863\n"
     ]
    },
    {
     "name": "stderr",
     "output_type": "stream",
     "text": [
      "/usr/local/lib/python3.6/dist-packages/tensorflow/python/keras/engine/sequential.py:450: UserWarning: `model.predict_classes()` is deprecated and will be removed after 2021-01-01. Please use instead:* `np.argmax(model.predict(x), axis=-1)`,   if your model does multi-class classification   (e.g. if it uses a `softmax` last-layer activation).* `(model.predict(x) > 0.5).astype(\"int32\")`,   if your model does binary classification   (e.g. if it uses a `sigmoid` last-layer activation).\n",
      "  warnings.warn('`model.predict_classes()` is deprecated and '\n"
     ]
    },
    {
     "name": "stdout",
     "output_type": "stream",
     "text": [
      "Accuracy: 98.63%\n",
      "Confussion matrix:\n",
      "[[4001    0    0    0]\n",
      " [   0 3964   12    0]\n",
      " [   0   12 3821  100]\n",
      " [   0    0   95 3995]]\n",
      "Escenario: SMP, Info: Basic\n",
      "Datos ya disponibles de SMP/data.pickle\n",
      "500/500 [==============================] - 0s 798us/step - loss: 0.0305 - accuracy: 0.9894\n"
     ]
    },
    {
     "name": "stderr",
     "output_type": "stream",
     "text": [
      "/usr/local/lib/python3.6/dist-packages/tensorflow/python/keras/engine/sequential.py:450: UserWarning: `model.predict_classes()` is deprecated and will be removed after 2021-01-01. Please use instead:* `np.argmax(model.predict(x), axis=-1)`,   if your model does multi-class classification   (e.g. if it uses a `softmax` last-layer activation).* `(model.predict(x) > 0.5).astype(\"int32\")`,   if your model does binary classification   (e.g. if it uses a `sigmoid` last-layer activation).\n",
      "  warnings.warn('`model.predict_classes()` is deprecated and '\n"
     ]
    },
    {
     "name": "stdout",
     "output_type": "stream",
     "text": [
      "Accuracy: 98.94%\n",
      "Confussion matrix:\n",
      "[[3997    0    0    0]\n",
      " [   5 4016   12    0]\n",
      " [   0   12 3842   60]\n",
      " [   0    0   80 3976]]\n",
      "Escenario: IGP, Info: Basic\n",
      "Datos ya disponibles de IGP/data.pickle\n",
      "500/500 [==============================] - 0s 833us/step - loss: 0.0233 - accuracy: 0.9915\n"
     ]
    },
    {
     "name": "stderr",
     "output_type": "stream",
     "text": [
      "/usr/local/lib/python3.6/dist-packages/tensorflow/python/keras/engine/sequential.py:450: UserWarning: `model.predict_classes()` is deprecated and will be removed after 2021-01-01. Please use instead:* `np.argmax(model.predict(x), axis=-1)`,   if your model does multi-class classification   (e.g. if it uses a `softmax` last-layer activation).* `(model.predict(x) > 0.5).astype(\"int32\")`,   if your model does binary classification   (e.g. if it uses a `sigmoid` last-layer activation).\n",
      "  warnings.warn('`model.predict_classes()` is deprecated and '\n"
     ]
    },
    {
     "name": "stdout",
     "output_type": "stream",
     "text": [
      "Accuracy: 99.15%\n",
      "Confussion matrix:\n",
      "[[3996    0    0    0]\n",
      " [   0 4035   10    0]\n",
      " [   0   12 3966   53]\n",
      " [   0    0   61 3867]]\n",
      "Escenario: IMP, Info: Basic\n",
      "Datos ya disponibles de IMP/data.pickle\n",
      "500/500 [==============================] - 0s 853us/step - loss: 0.0159 - accuracy: 0.9941\n"
     ]
    },
    {
     "name": "stderr",
     "output_type": "stream",
     "text": [
      "/usr/local/lib/python3.6/dist-packages/tensorflow/python/keras/engine/sequential.py:450: UserWarning: `model.predict_classes()` is deprecated and will be removed after 2021-01-01. Please use instead:* `np.argmax(model.predict(x), axis=-1)`,   if your model does multi-class classification   (e.g. if it uses a `softmax` last-layer activation).* `(model.predict(x) > 0.5).astype(\"int32\")`,   if your model does binary classification   (e.g. if it uses a `sigmoid` last-layer activation).\n",
      "  warnings.warn('`model.predict_classes()` is deprecated and '\n"
     ]
    },
    {
     "name": "stdout",
     "output_type": "stream",
     "text": [
      "Accuracy: 99.41%\n",
      "Confussion matrix:\n",
      "[[4010    1    0    0]\n",
      " [   4 4034   14    0]\n",
      " [   0   11 3948   26]\n",
      " [   0    0   38 3914]]\n",
      "Escenario: IMG, Info: Basic\n",
      "Datos ya disponibles de IMG/data.pickle\n",
      "500/500 [==============================] - 0s 801us/step - loss: 0.8523 - accuracy: 0.6232\n"
     ]
    },
    {
     "name": "stderr",
     "output_type": "stream",
     "text": [
      "/usr/local/lib/python3.6/dist-packages/tensorflow/python/keras/engine/sequential.py:450: UserWarning: `model.predict_classes()` is deprecated and will be removed after 2021-01-01. Please use instead:* `np.argmax(model.predict(x), axis=-1)`,   if your model does multi-class classification   (e.g. if it uses a `softmax` last-layer activation).* `(model.predict(x) > 0.5).astype(\"int32\")`,   if your model does binary classification   (e.g. if it uses a `sigmoid` last-layer activation).\n",
      "  warnings.warn('`model.predict_classes()` is deprecated and '\n"
     ]
    },
    {
     "name": "stdout",
     "output_type": "stream",
     "text": [
      "Accuracy: 62.32%\n",
      "Confussion matrix:\n",
      "[[1019   21    0    0    0    0    0    0    0    0    0    0    0    0\n",
      "     0    0]\n",
      " [ 339  548   96    0    0    0    0    0    0    0    0    0    0    0\n",
      "     0    0]\n",
      " [   8  127  702  124    7    0    0    0    0    0    0    0    0    0\n",
      "     0    0]\n",
      " [   0    6  260  437  304    0    2    0    0    0    0    0    0    0\n",
      "     0    0]\n",
      " [   0    0   29  213  616    0  108    0    0    0    0    0    0    0\n",
      "     0    0]\n",
      " [   0    0    0    1    3  993    1    6    0    0    0    0    0    0\n",
      "     0    0]\n",
      " [   0    0    0    1  106    0  712   86   37   18    0    0    0    0\n",
      "     0    0]\n",
      " [   0    0    0    0    5   11  219  381  308   93   19    0    0    0\n",
      "     0    0]\n",
      " [   0    0    0    0    1    4  117  240  435  167   72    0    0    0\n",
      "     0    0]\n",
      " [   0    0    0    0    0    0   57   87  253  412  236    1    0    0\n",
      "     0    0]\n",
      " [   0    0    0    0    0    0    2   11   82  158  672   33   17    0\n",
      "     0    0]\n",
      " [   0    0    0    0    0    0    0    0    0    0   86  429  338  121\n",
      "    16    0]\n",
      " [   0    0    0    0    0    0    0    0    0    0   24  180  502  192\n",
      "    78    0]\n",
      " [   0    0    0    0    0    0    0    0    0    0    2   94  231  511\n",
      "   170    0]\n",
      " [   0    0    0    0    0    0    0    0    0    0    1   21   86  519\n",
      "   388   23]\n",
      " [   0    0    0    0    0    0    0    0    0    0    0    0    0    0\n",
      "    76  889]]\n",
      "Escenario: CGM, Info: Basic\n",
      "Datos ya disponibles de CGM/data.pickle\n",
      "500/500 [==============================] - 0s 810us/step - loss: 0.5543 - accuracy: 0.7499\n"
     ]
    },
    {
     "name": "stderr",
     "output_type": "stream",
     "text": [
      "/usr/local/lib/python3.6/dist-packages/tensorflow/python/keras/engine/sequential.py:450: UserWarning: `model.predict_classes()` is deprecated and will be removed after 2021-01-01. Please use instead:* `np.argmax(model.predict(x), axis=-1)`,   if your model does multi-class classification   (e.g. if it uses a `softmax` last-layer activation).* `(model.predict(x) > 0.5).astype(\"int32\")`,   if your model does binary classification   (e.g. if it uses a `sigmoid` last-layer activation).\n",
      "  warnings.warn('`model.predict_classes()` is deprecated and '\n"
     ]
    },
    {
     "name": "stdout",
     "output_type": "stream",
     "text": [
      "Accuracy: 74.99%\n",
      "Confussion matrix:\n",
      "[[1914    9    0    0    0    0    0    0]\n",
      " [  31 1794  214    0    0    0    0    0]\n",
      " [   0  173 1529  323    1    0    0    0]\n",
      " [   0    1  354 1487  149    1    0    0]\n",
      " [   0    0    1  267 1475  258    0    0]\n",
      " [   0    0    0    1  261 1473  291   14]\n",
      " [   0    0    0    0    0  341 1104  624]\n",
      " [   0    0    0    0    0   74  615 1221]]\n",
      "Escenario: SGM, Info: Basic\n",
      "Datos ya disponibles de SGM/data.pickle\n",
      "500/500 [==============================] - 0s 799us/step - loss: 0.5436 - accuracy: 0.7586\n"
     ]
    },
    {
     "name": "stderr",
     "output_type": "stream",
     "text": [
      "/usr/local/lib/python3.6/dist-packages/tensorflow/python/keras/engine/sequential.py:450: UserWarning: `model.predict_classes()` is deprecated and will be removed after 2021-01-01. Please use instead:* `np.argmax(model.predict(x), axis=-1)`,   if your model does multi-class classification   (e.g. if it uses a `softmax` last-layer activation).* `(model.predict(x) > 0.5).astype(\"int32\")`,   if your model does binary classification   (e.g. if it uses a `sigmoid` last-layer activation).\n",
      "  warnings.warn('`model.predict_classes()` is deprecated and '\n"
     ]
    },
    {
     "name": "stdout",
     "output_type": "stream",
     "text": [
      "Accuracy: 75.86%\n",
      "Confussion matrix:\n",
      "[[1925   10    0    0    0    0    0    0]\n",
      " [  17 1829  131    0    0    0    0    0]\n",
      " [   0  253 1467  210    1    0    0    0]\n",
      " [   0    5  464 1406  192    0    0    0]\n",
      " [   0    0    0  203 1602  224    3    0]\n",
      " [   0    0    0    1  307 1505  242   15]\n",
      " [   0    0    0    0    2  278 1116  600]\n",
      " [   0    0    0    0    0   60  645 1287]]\n",
      "Escenario: CGG, Info: Basic\n",
      "Datos ya disponibles de CGG/data.pickle\n",
      "500/500 [==============================] - 0s 777us/step - loss: 1.1661 - accuracy: 0.4892\n"
     ]
    },
    {
     "name": "stderr",
     "output_type": "stream",
     "text": [
      "/usr/local/lib/python3.6/dist-packages/tensorflow/python/keras/engine/sequential.py:450: UserWarning: `model.predict_classes()` is deprecated and will be removed after 2021-01-01. Please use instead:* `np.argmax(model.predict(x), axis=-1)`,   if your model does multi-class classification   (e.g. if it uses a `softmax` last-layer activation).* `(model.predict(x) > 0.5).astype(\"int32\")`,   if your model does binary classification   (e.g. if it uses a `sigmoid` last-layer activation).\n",
      "  warnings.warn('`model.predict_classes()` is deprecated and '\n"
     ]
    },
    {
     "name": "stdout",
     "output_type": "stream",
     "text": [
      "Accuracy: 48.92%\n",
      "Confussion matrix:\n",
      "[[1039    3    0    0    0    0    0    0    0    0    0    0    0    0\n",
      "     0    0]\n",
      " [ 503  426   30    0    0    0    0    0    0    0    0    0    0    0\n",
      "     0    0]\n",
      " [  15  246  622  153    5    0    0    0    0    0    0    0    0    0\n",
      "     0    0]\n",
      " [   0   10  223  447  315   16    0    0    0    0    0    0    0    0\n",
      "     0    0]\n",
      " [   0    1   23  153  552  210   51    0    1    0    0    0    0    0\n",
      "     0    0]\n",
      " [   0    0    1   11  196  482  298   19   27    1    0    0    0    0\n",
      "     0    0]\n",
      " [   0    0    0    3   31  216  464   67  153   19    0    0    0    0\n",
      "     0    0]\n",
      " [   0    0    0    0    3   53  329   98  305  158    5    0    0    0\n",
      "     0    0]\n",
      " [   0    0    0    0    0    9  171  119  364  280   30    0    0    0\n",
      "     0    0]\n",
      " [   0    0    0    0    0    1   25   50  192  546  217   14    0    0\n",
      "     0    0]\n",
      " [   0    0    0    0    0    0    3    8   29  325  518  124    3    0\n",
      "     0    0]\n",
      " [   0    0    0    0    0    0    0    0    0   14  164  519  150   74\n",
      "    68    6]\n",
      " [   0    0    0    0    0    0    0    0    0    0   43  347  190  144\n",
      "   229   54]\n",
      " [   0    0    0    0    0    0    0    0    0    0   13  186  163  152\n",
      "   349  125]\n",
      " [   0    0    0    0    0    0    0    0    0    1    4   87   84  104\n",
      "   438  293]\n",
      " [   0    0    0    0    0    0    0    0    0    0    0   11   18   40\n",
      "   287  632]]\n",
      "Escenario: IPG, Info: Basic\n",
      "Datos ya disponibles de IPG/data.pickle\n",
      "500/500 [==============================] - 0s 798us/step - loss: 0.9493 - accuracy: 0.5935\n"
     ]
    },
    {
     "name": "stderr",
     "output_type": "stream",
     "text": [
      "/usr/local/lib/python3.6/dist-packages/tensorflow/python/keras/engine/sequential.py:450: UserWarning: `model.predict_classes()` is deprecated and will be removed after 2021-01-01. Please use instead:* `np.argmax(model.predict(x), axis=-1)`,   if your model does multi-class classification   (e.g. if it uses a `softmax` last-layer activation).* `(model.predict(x) > 0.5).astype(\"int32\")`,   if your model does binary classification   (e.g. if it uses a `sigmoid` last-layer activation).\n",
      "  warnings.warn('`model.predict_classes()` is deprecated and '\n"
     ]
    },
    {
     "name": "stdout",
     "output_type": "stream",
     "text": [
      "Accuracy: 59.35%\n",
      "Confussion matrix:\n",
      "[[986   6   0   0   0   0   0   0   0   0   0   0   0   0   0   0]\n",
      " [525 461  61   0   0   0   0   0   0   0   0   0   0   0   0   0]\n",
      " [ 13 144 741 105   0   0   0   0   0   0   0   0   0   0   0   0]\n",
      " [  0   2 237 577 206   0   4   0   0   0   0   0   0   0   0   0]\n",
      " [  0   0  16 242 700   0  83   1   0   0   0   0   0   0   0   0]\n",
      " [  0   0   0   0   0 986   0   0   4   0   0   0   0   0   0   0]\n",
      " [  0   0   0   3 122   0 680  78   0  47   0   0   0   0   0   0]\n",
      " [  0   0   0   1  14   0 191 630   7 132  35   0   0   0   0   0]\n",
      " [  0   0   0   0   1   9   8  73 757  23  19 110   1   0   0   0]\n",
      " [  0   0   0   0   0   0  47 165   1 593 203   0   0   0   0   0]\n",
      " [  0   0   0   0   0   0   4  51   2 202 757   0   0   0   0   0]\n",
      " [  0   0   0   0   0   0   0   0  77   0   0 623 187  21  47  53]\n",
      " [  0   0   0   0   0   0   0   0  13   0   0 270 447  45 137  65]\n",
      " [  0   0   0   0   0   0   0   0  18   0   0 330 322  42 153  59]\n",
      " [  0   0   0   0   0   1   0   0  14   0   0 321 372  49 151  75]\n",
      " [  0   0   0   0   0   0   0   0  28   0   0 451 291  51 139  82]]\n",
      "Escenario: SGG, Info: Basic\n",
      "Datos ya disponibles de SGG/data.pickle\n",
      "500/500 [==============================] - 0s 843us/step - loss: 1.1443 - accuracy: 0.5047\n"
     ]
    },
    {
     "name": "stderr",
     "output_type": "stream",
     "text": [
      "/usr/local/lib/python3.6/dist-packages/tensorflow/python/keras/engine/sequential.py:450: UserWarning: `model.predict_classes()` is deprecated and will be removed after 2021-01-01. Please use instead:* `np.argmax(model.predict(x), axis=-1)`,   if your model does multi-class classification   (e.g. if it uses a `softmax` last-layer activation).* `(model.predict(x) > 0.5).astype(\"int32\")`,   if your model does binary classification   (e.g. if it uses a `sigmoid` last-layer activation).\n",
      "  warnings.warn('`model.predict_classes()` is deprecated and '\n"
     ]
    },
    {
     "name": "stdout",
     "output_type": "stream",
     "text": [
      "Accuracy: 50.47%\n",
      "Confussion matrix:\n",
      "[[963   0   0   0   0   0   0   0   0   0   0   0   0   0   0   0]\n",
      " [534 455  17   0   0   0   0   0   0   0   0   0   0   0   0   0]\n",
      " [ 13 225 618 143  13   0   0   0   0   0   0   0   0   0   0   0]\n",
      " [  1   9 205 479 265  22   0   0   0   0   0   0   0   0   0   0]\n",
      " [  0   0  16 179 585 140  30   0   0   0   0   0   0   0   0   0]\n",
      " [  0   0   0  26 241 515 221  25  16   2   0   0   0   0   0   0]\n",
      " [  0   0   0   4  52 275 413  99 140  26   0   0   0   0   0   0]\n",
      " [  0   0   0   0   6  83 296 187 313 120   3   0   0   0   0   0]\n",
      " [  0   0   0   0   1  17 174 134 521 156  24   2   0   0   0   0]\n",
      " [  0   0   0   0   0   2  22  74 229 456 212  14   0   0   0   0]\n",
      " [  0   0   0   0   0   0   1  10  63 294 481 108   6   2   0   0]\n",
      " [  0   0   0   0   0   0   0   0   2  13 142 504 259  34  63  10]\n",
      " [  0   0   0   0   0   0   0   0   0   2  27 286 332  96 189  56]\n",
      " [  0   0   0   0   0   0   0   0   0   0   7 158 241  97 345 153]\n",
      " [  0   0   0   0   0   0   0   0   0   0   1  62 157  78 385 292]\n",
      " [  0   0   0   0   0   0   0   0   0   0   0   4  35  23 188 781]]\n",
      "Escenario: SMM, Info: Basic\n",
      "Datos ya disponibles de SMM/data.pickle\n",
      "500/500 [==============================] - 0s 811us/step - loss: 0.5360 - accuracy: 0.7584\n"
     ]
    },
    {
     "name": "stderr",
     "output_type": "stream",
     "text": [
      "/usr/local/lib/python3.6/dist-packages/tensorflow/python/keras/engine/sequential.py:450: UserWarning: `model.predict_classes()` is deprecated and will be removed after 2021-01-01. Please use instead:* `np.argmax(model.predict(x), axis=-1)`,   if your model does multi-class classification   (e.g. if it uses a `softmax` last-layer activation).* `(model.predict(x) > 0.5).astype(\"int32\")`,   if your model does binary classification   (e.g. if it uses a `sigmoid` last-layer activation).\n",
      "  warnings.warn('`model.predict_classes()` is deprecated and '\n"
     ]
    },
    {
     "name": "stdout",
     "output_type": "stream",
     "text": [
      "Accuracy: 75.84%\n",
      "Confussion matrix:\n",
      "[[2017    6    0    0    0    0    0    0]\n",
      " [  26 1847  130    0    0    0    0    0]\n",
      " [   0  231 1449  317    0    0    0    0]\n",
      " [   0    4  353 1439  196    0    0    0]\n",
      " [   0    0    1  185 1555  320    0    0]\n",
      " [   0    0    0    2  231 1511  224   20]\n",
      " [   0    0    0    0    1  286 1013  685]\n",
      " [   0    0    0    0    0   65  587 1299]]\n",
      "Escenario: SGP, Info: Basic\n",
      "Datos ya disponibles de SGP/data.pickle\n",
      "500/500 [==============================] - 0s 839us/step - loss: 0.0345 - accuracy: 0.9874\n"
     ]
    },
    {
     "name": "stderr",
     "output_type": "stream",
     "text": [
      "/usr/local/lib/python3.6/dist-packages/tensorflow/python/keras/engine/sequential.py:450: UserWarning: `model.predict_classes()` is deprecated and will be removed after 2021-01-01. Please use instead:* `np.argmax(model.predict(x), axis=-1)`,   if your model does multi-class classification   (e.g. if it uses a `softmax` last-layer activation).* `(model.predict(x) > 0.5).astype(\"int32\")`,   if your model does binary classification   (e.g. if it uses a `sigmoid` last-layer activation).\n",
      "  warnings.warn('`model.predict_classes()` is deprecated and '\n"
     ]
    },
    {
     "name": "stdout",
     "output_type": "stream",
     "text": [
      "Accuracy: 98.74%\n",
      "Confussion matrix:\n",
      "[[3955    0    0    0]\n",
      " [   1 3979   13    0]\n",
      " [   0   13 3967   87]\n",
      " [   0    0   88 3897]]\n",
      "Escenario: IGM, Info: Basic\n",
      "Datos ya disponibles de IGM/data.pickle\n",
      "500/500 [==============================] - 0s 838us/step - loss: 0.4847 - accuracy: 0.7853\n"
     ]
    },
    {
     "name": "stderr",
     "output_type": "stream",
     "text": [
      "/usr/local/lib/python3.6/dist-packages/tensorflow/python/keras/engine/sequential.py:450: UserWarning: `model.predict_classes()` is deprecated and will be removed after 2021-01-01. Please use instead:* `np.argmax(model.predict(x), axis=-1)`,   if your model does multi-class classification   (e.g. if it uses a `softmax` last-layer activation).* `(model.predict(x) > 0.5).astype(\"int32\")`,   if your model does binary classification   (e.g. if it uses a `sigmoid` last-layer activation).\n",
      "  warnings.warn('`model.predict_classes()` is deprecated and '\n"
     ]
    },
    {
     "name": "stdout",
     "output_type": "stream",
     "text": [
      "Accuracy: 78.53%\n",
      "Confussion matrix:\n",
      "[[1980    5    0    0    0    0    0    0]\n",
      " [  20 1814  163    0    0    0    0    0]\n",
      " [   0  190 1482  301    0    0    0    0]\n",
      " [   0    2  305 1474  203    0    0    0]\n",
      " [   0    0    1  172 1678  148    0    0]\n",
      " [   0    0    0    0  185 1578  204   16]\n",
      " [   0    0    0    0    2  237 1249  572]\n",
      " [   0    0    0    0    0   54  654 1311]]\n",
      "Escenario: IPP, Info: Basic\n",
      "Datos ya disponibles de IPP/data.pickle\n",
      "500/500 [==============================] - 0s 826us/step - loss: 0.0057 - accuracy: 0.9984\n"
     ]
    },
    {
     "name": "stderr",
     "output_type": "stream",
     "text": [
      "/usr/local/lib/python3.6/dist-packages/tensorflow/python/keras/engine/sequential.py:450: UserWarning: `model.predict_classes()` is deprecated and will be removed after 2021-01-01. Please use instead:* `np.argmax(model.predict(x), axis=-1)`,   if your model does multi-class classification   (e.g. if it uses a `softmax` last-layer activation).* `(model.predict(x) > 0.5).astype(\"int32\")`,   if your model does binary classification   (e.g. if it uses a `sigmoid` last-layer activation).\n",
      "  warnings.warn('`model.predict_classes()` is deprecated and '\n"
     ]
    },
    {
     "name": "stdout",
     "output_type": "stream",
     "text": [
      "Accuracy: 99.84%\n",
      "Confussion matrix:\n",
      "[[3926    0    0    0]\n",
      " [   1 4041   10    0]\n",
      " [   0   15 4014    0]\n",
      " [   0    0    0 3993]]\n",
      "Escenario: IGG, Info: Basic\n",
      "Datos ya disponibles de IGG/data.pickle\n",
      "500/500 [==============================] - 0s 842us/step - loss: 0.9853 - accuracy: 0.5731\n"
     ]
    },
    {
     "name": "stderr",
     "output_type": "stream",
     "text": [
      "/usr/local/lib/python3.6/dist-packages/tensorflow/python/keras/engine/sequential.py:450: UserWarning: `model.predict_classes()` is deprecated and will be removed after 2021-01-01. Please use instead:* `np.argmax(model.predict(x), axis=-1)`,   if your model does multi-class classification   (e.g. if it uses a `softmax` last-layer activation).* `(model.predict(x) > 0.5).astype(\"int32\")`,   if your model does binary classification   (e.g. if it uses a `sigmoid` last-layer activation).\n",
      "  warnings.warn('`model.predict_classes()` is deprecated and '\n"
     ]
    },
    {
     "name": "stdout",
     "output_type": "stream",
     "text": [
      "Accuracy: 57.31%\n",
      "Confussion matrix:\n",
      "[[1012    1    0    0    0    0    0    0    0    0    0    0    0    0\n",
      "     0    0]\n",
      " [ 518  449   14    0    0    0    0    0    0    0    0    0    0    0\n",
      "     0    0]\n",
      " [  16  326  410  190    2    0    0    0    0    0    0    0    0    0\n",
      "     0    0]\n",
      " [   0   24  153  657  195    0    2    0    0    0    0    0    0    0\n",
      "     0    0]\n",
      " [   0    0   15  323  626    0   91    0    0    0    0    0    0    0\n",
      "     0    0]\n",
      " [   0    0    0   17   54  801   37   64    1    2    3    0    0    0\n",
      "     0    0]\n",
      " [   0    0    0    3  106   26  658   97   66    5    0    0    0    0\n",
      "     0    0]\n",
      " [   0    0    0    0    4   73  237  424  153   94    7    0    0    0\n",
      "     0    0]\n",
      " [   0    0    0    0    2   22  206  270  246  205   26    0    0    0\n",
      "     0    0]\n",
      " [   0    0    0    0    0   10   28  142  156  432  277   17    0    0\n",
      "     0    0]\n",
      " [   0    0    0    0    0    1    0   36   22  220  648  138    6    0\n",
      "     0    0]\n",
      " [   0    0    0    0    0    0    0    0    0    5  113  554  221   51\n",
      "    21    1]\n",
      " [   0    0    0    0    0    0    0    0    0    0   31  321  441   96\n",
      "   113   11]\n",
      " [   0    0    0    0    0    0    0    0    0    0    4  128  300  139\n",
      "   372   46]\n",
      " [   0    0    0    0    0    0    0    0    0    0    0   42  151  113\n",
      "   527  158]\n",
      " [   0    0    0    0    0    0    0    0    0    0    0    3    9   33\n",
      "   560  370]]\n",
      "Escenario: CMG, Info: Basic\n",
      "Datos ya disponibles de CMG/data.pickle\n",
      "500/500 [==============================] - 0s 823us/step - loss: 1.1561 - accuracy: 0.4959\n"
     ]
    },
    {
     "name": "stderr",
     "output_type": "stream",
     "text": [
      "/usr/local/lib/python3.6/dist-packages/tensorflow/python/keras/engine/sequential.py:450: UserWarning: `model.predict_classes()` is deprecated and will be removed after 2021-01-01. Please use instead:* `np.argmax(model.predict(x), axis=-1)`,   if your model does multi-class classification   (e.g. if it uses a `softmax` last-layer activation).* `(model.predict(x) > 0.5).astype(\"int32\")`,   if your model does binary classification   (e.g. if it uses a `sigmoid` last-layer activation).\n",
      "  warnings.warn('`model.predict_classes()` is deprecated and '\n"
     ]
    },
    {
     "name": "stdout",
     "output_type": "stream",
     "text": [
      "Accuracy: 49.59%\n",
      "Confussion matrix:\n",
      "[[1036    1    0    0    0    0    0    0    0    0    0    0    0    0\n",
      "     0    0]\n",
      " [ 486  473   25    0    0    0    0    0    0    0    0    0    0    0\n",
      "     0    0]\n",
      " [   6  264  606  110    2    0    0    0    0    0    0    0    0    0\n",
      "     0    0]\n",
      " [   0    6  254  456  208   15    1    0    0    0    0    0    0    0\n",
      "     0    0]\n",
      " [   0    0   37  217  525  160   22    2    0    0    0    0    0    0\n",
      "     0    0]\n",
      " [   0    0    0   22  270  479  180   88    1    1    0    0    0    0\n",
      "     0    0]\n",
      " [   0    0    0    4   54  246  234  355   48    4    1    0    0    0\n",
      "     0    0]\n",
      " [   0    0    0    0    8   74  141  479  189   89   17    1    0    0\n",
      "     0    0]\n",
      " [   0    0    0    0    2   22   66  379  286  173   73    3    0    0\n",
      "     0    0]\n",
      " [   0    0    0    0    0    5    8  117  214  335  329   23    0    0\n",
      "     0    0]\n",
      " [   0    0    0    0    0    1    0    9   58  145  581  191    8    0\n",
      "     0    0]\n",
      " [   0    0    0    0    0    0    0    1    0    1   76  568  264   10\n",
      "    40    4]\n",
      " [   0    0    0    0    0    0    0    0    0    0   24  341  406   21\n",
      "   195   40]\n",
      " [   0    0    0    0    0    0    0    0    0    0   11  163  352   33\n",
      "   355  118]\n",
      " [   0    0    0    0    0    0    0    0    0    0    2   69  234   35\n",
      "   401  240]\n",
      " [   0    0    0    0    0    0    0    0    0    0    0    5   82   12\n",
      "   297  675]]\n",
      "Escenario: CPM, Info: Basic\n",
      "Datos ya disponibles de CPM/data.pickle\n",
      "500/500 [==============================] - 0s 824us/step - loss: 0.5307 - accuracy: 0.7600\n"
     ]
    },
    {
     "name": "stderr",
     "output_type": "stream",
     "text": [
      "/usr/local/lib/python3.6/dist-packages/tensorflow/python/keras/engine/sequential.py:450: UserWarning: `model.predict_classes()` is deprecated and will be removed after 2021-01-01. Please use instead:* `np.argmax(model.predict(x), axis=-1)`,   if your model does multi-class classification   (e.g. if it uses a `softmax` last-layer activation).* `(model.predict(x) > 0.5).astype(\"int32\")`,   if your model does binary classification   (e.g. if it uses a `sigmoid` last-layer activation).\n",
      "  warnings.warn('`model.predict_classes()` is deprecated and '\n"
     ]
    },
    {
     "name": "stdout",
     "output_type": "stream",
     "text": [
      "Accuracy: 76.00%\n",
      "Confussion matrix:\n",
      "[[1919   21    0    0    0    0    0    0]\n",
      " [  10 1877  130    0    0    0    0    0]\n",
      " [   0  226 1465  284    0    0    0    0]\n",
      " [   0    2  396 1403  185    1    0    0]\n",
      " [   0    0    0  216 1537  241    1    0]\n",
      " [   0    0    0    0  214 1621  221   12]\n",
      " [   0    0    0    0    1  300 1032  707]\n",
      " [   0    0    0    0    0   66  609 1303]]\n",
      "Escenario: CMP, Info: Basic\n",
      "Datos ya disponibles de CMP/data.pickle\n",
      "500/500 [==============================] - 0s 787us/step - loss: 0.0364 - accuracy: 0.9863\n"
     ]
    },
    {
     "name": "stderr",
     "output_type": "stream",
     "text": [
      "/usr/local/lib/python3.6/dist-packages/tensorflow/python/keras/engine/sequential.py:450: UserWarning: `model.predict_classes()` is deprecated and will be removed after 2021-01-01. Please use instead:* `np.argmax(model.predict(x), axis=-1)`,   if your model does multi-class classification   (e.g. if it uses a `softmax` last-layer activation).* `(model.predict(x) > 0.5).astype(\"int32\")`,   if your model does binary classification   (e.g. if it uses a `sigmoid` last-layer activation).\n",
      "  warnings.warn('`model.predict_classes()` is deprecated and '\n"
     ]
    },
    {
     "name": "stdout",
     "output_type": "stream",
     "text": [
      "Accuracy: 98.63%\n",
      "Confussion matrix:\n",
      "[[4004    0    0    0]\n",
      " [   1 4104    8    0]\n",
      " [   0    9 3837   96]\n",
      " [   0    0  105 3836]]\n",
      "Escenario: CGP, Info: Basic\n",
      "Datos ya disponibles de CGP/data.pickle\n",
      "500/500 [==============================] - 0s 823us/step - loss: 0.0377 - accuracy: 0.9862\n"
     ]
    },
    {
     "name": "stderr",
     "output_type": "stream",
     "text": [
      "/usr/local/lib/python3.6/dist-packages/tensorflow/python/keras/engine/sequential.py:450: UserWarning: `model.predict_classes()` is deprecated and will be removed after 2021-01-01. Please use instead:* `np.argmax(model.predict(x), axis=-1)`,   if your model does multi-class classification   (e.g. if it uses a `softmax` last-layer activation).* `(model.predict(x) > 0.5).astype(\"int32\")`,   if your model does binary classification   (e.g. if it uses a `sigmoid` last-layer activation).\n",
      "  warnings.warn('`model.predict_classes()` is deprecated and '\n"
     ]
    },
    {
     "name": "stdout",
     "output_type": "stream",
     "text": [
      "Accuracy: 98.62%\n",
      "Confussion matrix:\n",
      "[[4067    0    0    0]\n",
      " [   4 4007   21    0]\n",
      " [   0   11 3815   84]\n",
      " [   0    0  100 3891]]\n",
      "Escenario: SPP, Info: Basic\n",
      "Datos ya disponibles de SPP/data.pickle\n",
      "500/500 [==============================] - 0s 801us/step - loss: 0.0322 - accuracy: 0.9887\n"
     ]
    },
    {
     "name": "stderr",
     "output_type": "stream",
     "text": [
      "/usr/local/lib/python3.6/dist-packages/tensorflow/python/keras/engine/sequential.py:450: UserWarning: `model.predict_classes()` is deprecated and will be removed after 2021-01-01. Please use instead:* `np.argmax(model.predict(x), axis=-1)`,   if your model does multi-class classification   (e.g. if it uses a `softmax` last-layer activation).* `(model.predict(x) > 0.5).astype(\"int32\")`,   if your model does binary classification   (e.g. if it uses a `sigmoid` last-layer activation).\n",
      "  warnings.warn('`model.predict_classes()` is deprecated and '\n"
     ]
    },
    {
     "name": "stdout",
     "output_type": "stream",
     "text": [
      "Accuracy: 98.87%\n",
      "Confussion matrix:\n",
      "[[3996    1    0    0]\n",
      " [   0 4064    8    0]\n",
      " [   0   11 3824   82]\n",
      " [   0    0   78 3936]]\n",
      "Escenario: IPM, Info: Basic\n",
      "Datos ya disponibles de IPM/data.pickle\n",
      "500/500 [==============================] - 0s 838us/step - loss: 0.3645 - accuracy: 0.8401\n"
     ]
    },
    {
     "name": "stderr",
     "output_type": "stream",
     "text": [
      "/usr/local/lib/python3.6/dist-packages/tensorflow/python/keras/engine/sequential.py:450: UserWarning: `model.predict_classes()` is deprecated and will be removed after 2021-01-01. Please use instead:* `np.argmax(model.predict(x), axis=-1)`,   if your model does multi-class classification   (e.g. if it uses a `softmax` last-layer activation).* `(model.predict(x) > 0.5).astype(\"int32\")`,   if your model does binary classification   (e.g. if it uses a `sigmoid` last-layer activation).\n",
      "  warnings.warn('`model.predict_classes()` is deprecated and '\n"
     ]
    },
    {
     "name": "stdout",
     "output_type": "stream",
     "text": [
      "Accuracy: 84.01%\n",
      "Confussion matrix:\n",
      "[[2070    6    0    0    0    0    0    0]\n",
      " [  28 1820  127    0    0    0    0    0]\n",
      " [   0  132 1632  237    0    0    0    0]\n",
      " [   0    0  224 1722   34   13    0    0]\n",
      " [   0    0    1   77 1609   96  158    2]\n",
      " [   0    0    0   11   55 1902    0    1]\n",
      " [   0    0    0    0  182    0 1289  560]\n",
      " [   0    0    0    0   18    0  595 1399]]\n",
      "Escenario: CMM, Info: Basic\n",
      "Datos ya disponibles de CMM/data.pickle\n",
      "500/500 [==============================] - 0s 822us/step - loss: 0.5376 - accuracy: 0.7634\n"
     ]
    },
    {
     "name": "stderr",
     "output_type": "stream",
     "text": [
      "/usr/local/lib/python3.6/dist-packages/tensorflow/python/keras/engine/sequential.py:450: UserWarning: `model.predict_classes()` is deprecated and will be removed after 2021-01-01. Please use instead:* `np.argmax(model.predict(x), axis=-1)`,   if your model does multi-class classification   (e.g. if it uses a `softmax` last-layer activation).* `(model.predict(x) > 0.5).astype(\"int32\")`,   if your model does binary classification   (e.g. if it uses a `sigmoid` last-layer activation).\n",
      "  warnings.warn('`model.predict_classes()` is deprecated and '\n"
     ]
    },
    {
     "name": "stdout",
     "output_type": "stream",
     "text": [
      "Accuracy: 76.34%\n",
      "Confussion matrix:\n",
      "[[1965   10    0    0    0    0    0    0]\n",
      " [  32 1821  171    0    0    0    0    0]\n",
      " [   0  182 1514  298    2    0    0    0]\n",
      " [   0    2  359 1461  173    0    0    0]\n",
      " [   0    0    0  222 1576  172    5    0]\n",
      " [   0    0    0    0  313 1426  292   19]\n",
      " [   0    0    0    0    3  262 1094  606]\n",
      " [   0    0    0    0    1   52  608 1359]]\n",
      "Escenario: SMG, Info: Basic\n",
      "Datos ya disponibles de SMG/data.pickle\n",
      "500/500 [==============================] - 0s 825us/step - loss: 1.0737 - accuracy: 0.5305\n"
     ]
    },
    {
     "name": "stderr",
     "output_type": "stream",
     "text": [
      "/usr/local/lib/python3.6/dist-packages/tensorflow/python/keras/engine/sequential.py:450: UserWarning: `model.predict_classes()` is deprecated and will be removed after 2021-01-01. Please use instead:* `np.argmax(model.predict(x), axis=-1)`,   if your model does multi-class classification   (e.g. if it uses a `softmax` last-layer activation).* `(model.predict(x) > 0.5).astype(\"int32\")`,   if your model does binary classification   (e.g. if it uses a `sigmoid` last-layer activation).\n",
      "  warnings.warn('`model.predict_classes()` is deprecated and '\n"
     ]
    },
    {
     "name": "stdout",
     "output_type": "stream",
     "text": [
      "Accuracy: 53.05%\n",
      "Confussion matrix:\n",
      "[[995   2   0   0   0   0   0   0   0   0   0   0   0   0   0   0]\n",
      " [600 392  31   0   0   0   0   0   0   0   0   0   0   0   0   0]\n",
      " [ 29 233 558 171   3   0   0   0   0   0   0   0   0   0   0   0]\n",
      " [  0   5 172 594 186   1   2   0   0   0   0   0   0   0   0   0]\n",
      " [  0   1  18 302 571  19  56   2   0   0   0   0   0   0   0   0]\n",
      " [  0   0   0  16 226 537 192  34   2   0   0   0   0   0   0   0]\n",
      " [  0   0   0   2 136  59 481 243  45  24   1   0   0   0   0   0]\n",
      " [  0   0   0   0  25  18 206 401 158 125  17   0   0   0   0   0]\n",
      " [  0   0   0   0   1   1 111 353 261 222  66   0   0   0   0   0]\n",
      " [  0   0   0   0   1   0  13 109 164 352 317  15   0   0   0   0]\n",
      " [  0   0   0   0   0   0   1  14  39 183 608 135   9   1   0   0]\n",
      " [  0   0   0   0   0   0   0   1   0   0 120 505 238 132  27   8]\n",
      " [  0   0   0   0   0   0   0   0   0   0  16 268 339 284  79  49]\n",
      " [  0   0   0   0   0   0   0   0   0   0  11 138 207 307 218 121]\n",
      " [  0   0   0   0   0   0   0   0   0   1   1  50 116 293 322 238]\n",
      " [  0   0   0   0   0   0   0   0   0   0   0   7  19  79 111 828]]\n",
      "Escenario: IMM, Info: Basic\n",
      "Datos ya disponibles de IMM/data.pickle\n",
      "500/500 [==============================] - 0s 832us/step - loss: 0.4701 - accuracy: 0.7898\n"
     ]
    },
    {
     "name": "stderr",
     "output_type": "stream",
     "text": [
      "/usr/local/lib/python3.6/dist-packages/tensorflow/python/keras/engine/sequential.py:450: UserWarning: `model.predict_classes()` is deprecated and will be removed after 2021-01-01. Please use instead:* `np.argmax(model.predict(x), axis=-1)`,   if your model does multi-class classification   (e.g. if it uses a `softmax` last-layer activation).* `(model.predict(x) > 0.5).astype(\"int32\")`,   if your model does binary classification   (e.g. if it uses a `sigmoid` last-layer activation).\n",
      "  warnings.warn('`model.predict_classes()` is deprecated and '\n"
     ]
    },
    {
     "name": "stdout",
     "output_type": "stream",
     "text": [
      "Accuracy: 78.98%\n",
      "Confussion matrix:\n",
      "[[2093    8    0    0    0    0    0    0]\n",
      " [  26 1765  170    0    0    0    0    0]\n",
      " [   0  188 1504  257    0    0    0    0]\n",
      " [   0    5  266 1632  166    0    0    0]\n",
      " [   0    0    0  177 1552  299    0    0]\n",
      " [   0    0    0    1  200 1603  128    5]\n",
      " [   0    0    0    0    1  154 1287  579]\n",
      " [   0    0    0    0    0   33  724 1177]]\n",
      "Escenario: CPG, Info: Tags\n",
      "Datos ya disponibles de CPG/data.pickle\n",
      "500/500 [==============================] - 0s 813us/step - loss: 1.2127 - accuracy: 0.4663\n"
     ]
    },
    {
     "name": "stderr",
     "output_type": "stream",
     "text": [
      "/usr/local/lib/python3.6/dist-packages/tensorflow/python/keras/engine/sequential.py:450: UserWarning: `model.predict_classes()` is deprecated and will be removed after 2021-01-01. Please use instead:* `np.argmax(model.predict(x), axis=-1)`,   if your model does multi-class classification   (e.g. if it uses a `softmax` last-layer activation).* `(model.predict(x) > 0.5).astype(\"int32\")`,   if your model does binary classification   (e.g. if it uses a `sigmoid` last-layer activation).\n",
      "  warnings.warn('`model.predict_classes()` is deprecated and '\n"
     ]
    },
    {
     "name": "stdout",
     "output_type": "stream",
     "text": [
      "Accuracy: 46.63%\n",
      "Confussion matrix:\n",
      "[[960   0   0   0   0   0   0   0   0   0   0   0   0   0   0   0]\n",
      " [872 148   8   0   0   0   0   0   0   0   0   0   0   0   0   0]\n",
      " [ 96 306 493 107   0   0   0   0   0   0   0   0   0   0   0   0]\n",
      " [  1  18 287 548 148  32   1   0   0   0   0   0   0   0   0   0]\n",
      " [  0   1  32 311 323 320  30   0   0   0   0   0   0   0   0   0]\n",
      " [  0   0   1  57 181 511 220  22   2   1   0   0   0   0   0   0]\n",
      " [  0   0   1   1  34 236 459 240  19  28   1   0   0   0   0   0]\n",
      " [  0   0   0   0   2  55 283 398  46 168  12   0   0   0   0   0]\n",
      " [  0   0   0   0   1   8 133 373  60 324  60   2   0   0   0   0]\n",
      " [  0   0   0   0   0   2  34 192  61 476 266  15   0   0   0   0]\n",
      " [  0   0   0   0   0   0   4  30  13 294 468 131   7   0   0   0]\n",
      " [  0   0   0   0   0   0   0   1   0   2 119 477 197 145  47  16]\n",
      " [  0   0   0   0   0   0   0   0   0   1  32 294 216 234 112 123]\n",
      " [  0   0   0   0   0   0   0   0   0   0   8 164 167 228 155 261]\n",
      " [  0   0   0   0   0   0   0   0   0   2   8  85 130 208 160 414]\n",
      " [  0   0   0   0   0   0   0   0   0   0   2  24  47 124 131 692]]\n",
      "Escenario: SPG, Info: Tags\n",
      "Datos ya disponibles de SPG/data.pickle\n",
      "500/500 [==============================] - 0s 806us/step - loss: 1.3780 - accuracy: 0.4264\n"
     ]
    },
    {
     "name": "stderr",
     "output_type": "stream",
     "text": [
      "/usr/local/lib/python3.6/dist-packages/tensorflow/python/keras/engine/sequential.py:450: UserWarning: `model.predict_classes()` is deprecated and will be removed after 2021-01-01. Please use instead:* `np.argmax(model.predict(x), axis=-1)`,   if your model does multi-class classification   (e.g. if it uses a `softmax` last-layer activation).* `(model.predict(x) > 0.5).astype(\"int32\")`,   if your model does binary classification   (e.g. if it uses a `sigmoid` last-layer activation).\n",
      "  warnings.warn('`model.predict_classes()` is deprecated and '\n"
     ]
    },
    {
     "name": "stdout",
     "output_type": "stream",
     "text": [
      "Accuracy: 42.64%\n",
      "Confussion matrix:\n",
      "[[996   2   0   0   0   0   0   0   0   0   0   0   0   0   0   0]\n",
      " [752 272  17   0   0   0   0   0   0   0   0   0   0   0   0   0]\n",
      " [ 44 360 444 177   3   0   0   0   0   0   0   0   0   0   0   0]\n",
      " [  0  19 200 521 244   0   2   0   0   0   0   0   0   0   0   0]\n",
      " [  0   0  15 252 641  37  56   1   0   0   0   0   0   0   0   0]\n",
      " [  0   4  50 267 411  55 217  17   6   0   0   0   0   0   0   0]\n",
      " [  0   0   0   2 103  43 549 177  85  27   1   0   0   0   0   0]\n",
      " [  0   0   0   0  15   6 313 215 239 139  14   0   0   0   0   0]\n",
      " [  0   0   0   0   6   3 166 209 290 257  38   0   0   0   0   0]\n",
      " [  0   0   0   0   0   0  18  49 141 434 240  27   2   0   0   0]\n",
      " [  0   0   0   0   0   0   0   7  48 246 492 198  56   0   0   0]\n",
      " [  0   0   0   0   0   0   0   3  10  96 283 229 278  51   6   7]\n",
      " [  0   0   0   0   0   0   0   0   1  19 156 210 375 155  18  51]\n",
      " [  0   0   0   0   0   0   0   0   3  49 188 185 264 194  38 116]\n",
      " [  0   0   0   0   0   0   0   0   2  44 185 164 206 176  45 223]\n",
      " [  0   0   0   0   0   0   0   3   6  90 223 137  80  77  24 393]]\n",
      "Escenario: SPM, Info: Tags\n",
      "Datos ya disponibles de SPM/data.pickle\n",
      "500/500 [==============================] - 0s 817us/step - loss: 0.6582 - accuracy: 0.6931\n"
     ]
    },
    {
     "name": "stderr",
     "output_type": "stream",
     "text": [
      "/usr/local/lib/python3.6/dist-packages/tensorflow/python/keras/engine/sequential.py:450: UserWarning: `model.predict_classes()` is deprecated and will be removed after 2021-01-01. Please use instead:* `np.argmax(model.predict(x), axis=-1)`,   if your model does multi-class classification   (e.g. if it uses a `softmax` last-layer activation).* `(model.predict(x) > 0.5).astype(\"int32\")`,   if your model does binary classification   (e.g. if it uses a `sigmoid` last-layer activation).\n",
      "  warnings.warn('`model.predict_classes()` is deprecated and '\n"
     ]
    },
    {
     "name": "stdout",
     "output_type": "stream",
     "text": [
      "Accuracy: 69.31%\n",
      "Confussion matrix:\n",
      "[[2034    5    0    0    0    0    0    0]\n",
      " [  32 1808  114    0    0    0    0    0]\n",
      " [   0  213 1490  307    1    0    0    0]\n",
      " [   0    2  410 1442  164    0    0    0]\n",
      " [   0    0    0  260 1427  290    6    0]\n",
      " [   0    0    0    0  263 1113  488  113]\n",
      " [   0    0    0    0   93  629  510  841]\n",
      " [   0    0    0    0    9  256  414 1266]]\n",
      "Escenario: CPP, Info: Tags\n",
      "Datos ya disponibles de CPP/data.pickle\n",
      "500/500 [==============================] - 0s 829us/step - loss: 0.0413 - accuracy: 0.9853\n"
     ]
    },
    {
     "name": "stderr",
     "output_type": "stream",
     "text": [
      "/usr/local/lib/python3.6/dist-packages/tensorflow/python/keras/engine/sequential.py:450: UserWarning: `model.predict_classes()` is deprecated and will be removed after 2021-01-01. Please use instead:* `np.argmax(model.predict(x), axis=-1)`,   if your model does multi-class classification   (e.g. if it uses a `softmax` last-layer activation).* `(model.predict(x) > 0.5).astype(\"int32\")`,   if your model does binary classification   (e.g. if it uses a `sigmoid` last-layer activation).\n",
      "  warnings.warn('`model.predict_classes()` is deprecated and '\n"
     ]
    },
    {
     "name": "stdout",
     "output_type": "stream",
     "text": [
      "Accuracy: 98.53%\n",
      "Confussion matrix:\n",
      "[[4004    0    0    0]\n",
      " [   0 4015   15    0]\n",
      " [   0   17 3829   99]\n",
      " [   0    0  104 3917]]\n",
      "Escenario: SMP, Info: Tags\n",
      "Datos ya disponibles de SMP/data.pickle\n",
      "500/500 [==============================] - 0s 829us/step - loss: 0.0355 - accuracy: 0.9869\n"
     ]
    },
    {
     "name": "stderr",
     "output_type": "stream",
     "text": [
      "/usr/local/lib/python3.6/dist-packages/tensorflow/python/keras/engine/sequential.py:450: UserWarning: `model.predict_classes()` is deprecated and will be removed after 2021-01-01. Please use instead:* `np.argmax(model.predict(x), axis=-1)`,   if your model does multi-class classification   (e.g. if it uses a `softmax` last-layer activation).* `(model.predict(x) > 0.5).astype(\"int32\")`,   if your model does binary classification   (e.g. if it uses a `sigmoid` last-layer activation).\n",
      "  warnings.warn('`model.predict_classes()` is deprecated and '\n"
     ]
    },
    {
     "name": "stdout",
     "output_type": "stream",
     "text": [
      "Accuracy: 98.69%\n",
      "Confussion matrix:\n",
      "[[3966    1    0    0]\n",
      " [   0 3971   13    0]\n",
      " [   0   12 3852   87]\n",
      " [   0    0   96 4002]]\n",
      "Escenario: IGP, Info: Tags\n",
      "Datos ya disponibles de IGP/data.pickle\n",
      "500/500 [==============================] - 0s 782us/step - loss: 0.0352 - accuracy: 0.9859\n"
     ]
    },
    {
     "name": "stderr",
     "output_type": "stream",
     "text": [
      "/usr/local/lib/python3.6/dist-packages/tensorflow/python/keras/engine/sequential.py:450: UserWarning: `model.predict_classes()` is deprecated and will be removed after 2021-01-01. Please use instead:* `np.argmax(model.predict(x), axis=-1)`,   if your model does multi-class classification   (e.g. if it uses a `softmax` last-layer activation).* `(model.predict(x) > 0.5).astype(\"int32\")`,   if your model does binary classification   (e.g. if it uses a `sigmoid` last-layer activation).\n",
      "  warnings.warn('`model.predict_classes()` is deprecated and '\n"
     ]
    },
    {
     "name": "stdout",
     "output_type": "stream",
     "text": [
      "Accuracy: 98.59%\n",
      "Confussion matrix:\n",
      "[[3944    0    0    0]\n",
      " [   0 4048   20    0]\n",
      " [   0   13 3974   98]\n",
      " [   0    0   94 3809]]\n",
      "Escenario: IMP, Info: Tags\n",
      "Datos ya disponibles de IMP/data.pickle\n",
      "500/500 [==============================] - 0s 802us/step - loss: 0.0371 - accuracy: 0.9866\n"
     ]
    },
    {
     "name": "stderr",
     "output_type": "stream",
     "text": [
      "/usr/local/lib/python3.6/dist-packages/tensorflow/python/keras/engine/sequential.py:450: UserWarning: `model.predict_classes()` is deprecated and will be removed after 2021-01-01. Please use instead:* `np.argmax(model.predict(x), axis=-1)`,   if your model does multi-class classification   (e.g. if it uses a `softmax` last-layer activation).* `(model.predict(x) > 0.5).astype(\"int32\")`,   if your model does binary classification   (e.g. if it uses a `sigmoid` last-layer activation).\n",
      "  warnings.warn('`model.predict_classes()` is deprecated and '\n"
     ]
    },
    {
     "name": "stdout",
     "output_type": "stream",
     "text": [
      "Accuracy: 98.66%\n",
      "Confussion matrix:\n",
      "[[4017    1    0    0]\n",
      " [   0 4035   20    0]\n",
      " [   0   14 3907   86]\n",
      " [   0    0   93 3827]]\n",
      "Escenario: IMG, Info: Tags\n",
      "Datos ya disponibles de IMG/data.pickle\n",
      "500/500 [==============================] - 0s 833us/step - loss: 1.2086 - accuracy: 0.4609\n"
     ]
    },
    {
     "name": "stderr",
     "output_type": "stream",
     "text": [
      "/usr/local/lib/python3.6/dist-packages/tensorflow/python/keras/engine/sequential.py:450: UserWarning: `model.predict_classes()` is deprecated and will be removed after 2021-01-01. Please use instead:* `np.argmax(model.predict(x), axis=-1)`,   if your model does multi-class classification   (e.g. if it uses a `softmax` last-layer activation).* `(model.predict(x) > 0.5).astype(\"int32\")`,   if your model does binary classification   (e.g. if it uses a `sigmoid` last-layer activation).\n",
      "  warnings.warn('`model.predict_classes()` is deprecated and '\n"
     ]
    },
    {
     "name": "stdout",
     "output_type": "stream",
     "text": [
      "Accuracy: 46.09%\n",
      "Confussion matrix:\n",
      "[[1042    0    0    0    0    0    0    0    0    0    0    0    0    0\n",
      "     0    0]\n",
      " [ 745  283    4    0    0    0    0    0    0    0    0    0    0    0\n",
      "     0    0]\n",
      " [  48  467  300  176    4    0    0    0    0    0    0    0    0    0\n",
      "     0    0]\n",
      " [   0   69  157  522  196   39    1    0    0    0    0    0    0    0\n",
      "     0    0]\n",
      " [   0    1   21  224  326  337   59    0    0    0    0    0    0    0\n",
      "     0    0]\n",
      " [   0    0    0   70  184  477  228   11    3    0    0    0    0    0\n",
      "     0    0]\n",
      " [   0    0    0    0    9  176  490  163   99   22    1    0    0    0\n",
      "     0    0]\n",
      " [   0    0    0    0    0   38  270  262  299  146    6    0    0    0\n",
      "     0    0]\n",
      " [   0    0    0    0    0    7  151  189  325  343   42    0    0    0\n",
      "     0    0]\n",
      " [   0    0    0    0    0    0   25   78  177  509  231   14    0    0\n",
      "     0    0]\n",
      " [   0    0    0    0    0    0    0    7   39  288  476  143    4    1\n",
      "     1    0]\n",
      " [   0    0    0    0    0    0    0    0    0    8  140  448  222   93\n",
      "    88    0]\n",
      " [   0    0    0    0    0    0    0    0    0    0   25  265  233  141\n",
      "   317    3]\n",
      " [   0    0    0    0    0    0    0    0    0    1   11  104  185  161\n",
      "   523    9]\n",
      " [   0    0    0    0    0    0    0    0    0    0    1   36  128  112\n",
      "   700   47]\n",
      " [   0    0    0    0    0    0    0    0    0    0    3   36   96  106\n",
      "   678   55]]\n",
      "Escenario: CGM, Info: Tags\n",
      "Datos ya disponibles de CGM/data.pickle\n",
      "500/500 [==============================] - 0s 807us/step - loss: 0.5595 - accuracy: 0.7459\n"
     ]
    },
    {
     "name": "stderr",
     "output_type": "stream",
     "text": [
      "/usr/local/lib/python3.6/dist-packages/tensorflow/python/keras/engine/sequential.py:450: UserWarning: `model.predict_classes()` is deprecated and will be removed after 2021-01-01. Please use instead:* `np.argmax(model.predict(x), axis=-1)`,   if your model does multi-class classification   (e.g. if it uses a `softmax` last-layer activation).* `(model.predict(x) > 0.5).astype(\"int32\")`,   if your model does binary classification   (e.g. if it uses a `sigmoid` last-layer activation).\n",
      "  warnings.warn('`model.predict_classes()` is deprecated and '\n"
     ]
    },
    {
     "name": "stdout",
     "output_type": "stream",
     "text": [
      "Accuracy: 74.59%\n",
      "Confussion matrix:\n",
      "[[1966    0    0    0    0    0    0    0]\n",
      " [  87 1775  123    0    0    0    0    0]\n",
      " [   0  234 1460  289    2    0    0    0]\n",
      " [   0    2  386 1339  262    0    0    0]\n",
      " [   0    0    4  166 1494  332    1    0]\n",
      " [   0    0    0    0  249 1416  374   12]\n",
      " [   0    0    0    0    1  252 1163  685]\n",
      " [   0    0    0    0    0   47  611 1268]]\n",
      "Escenario: SGM, Info: Tags\n",
      "Datos ya disponibles de SGM/data.pickle\n",
      "500/500 [==============================] - 0s 844us/step - loss: 0.5570 - accuracy: 0.7497\n"
     ]
    },
    {
     "name": "stderr",
     "output_type": "stream",
     "text": [
      "/usr/local/lib/python3.6/dist-packages/tensorflow/python/keras/engine/sequential.py:450: UserWarning: `model.predict_classes()` is deprecated and will be removed after 2021-01-01. Please use instead:* `np.argmax(model.predict(x), axis=-1)`,   if your model does multi-class classification   (e.g. if it uses a `softmax` last-layer activation).* `(model.predict(x) > 0.5).astype(\"int32\")`,   if your model does binary classification   (e.g. if it uses a `sigmoid` last-layer activation).\n",
      "  warnings.warn('`model.predict_classes()` is deprecated and '\n"
     ]
    },
    {
     "name": "stdout",
     "output_type": "stream",
     "text": [
      "Accuracy: 74.97%\n",
      "Confussion matrix:\n",
      "[[1930    5    0    0    0    0    0    0]\n",
      " [  24 1854  136    0    0    0    0    0]\n",
      " [   0  233 1322  375    1    0    0    0]\n",
      " [   0    4  304 1511  203    0    0    0]\n",
      " [   0    0    0  182 1562  293    1    0]\n",
      " [   0    0    0    1  324 1416  280   18]\n",
      " [   0    0    0    0    2  307 1000  733]\n",
      " [   0    0    0    0    0   63  516 1400]]\n",
      "Escenario: CGG, Info: Tags\n",
      "Datos ya disponibles de CGG/data.pickle\n",
      "500/500 [==============================] - 0s 878us/step - loss: 1.1747 - accuracy: 0.4823\n"
     ]
    },
    {
     "name": "stderr",
     "output_type": "stream",
     "text": [
      "/usr/local/lib/python3.6/dist-packages/tensorflow/python/keras/engine/sequential.py:450: UserWarning: `model.predict_classes()` is deprecated and will be removed after 2021-01-01. Please use instead:* `np.argmax(model.predict(x), axis=-1)`,   if your model does multi-class classification   (e.g. if it uses a `softmax` last-layer activation).* `(model.predict(x) > 0.5).astype(\"int32\")`,   if your model does binary classification   (e.g. if it uses a `sigmoid` last-layer activation).\n",
      "  warnings.warn('`model.predict_classes()` is deprecated and '\n"
     ]
    },
    {
     "name": "stdout",
     "output_type": "stream",
     "text": [
      "Accuracy: 48.23%\n",
      "Confussion matrix:\n",
      "[[1014    0    0    0    0    0    0    0    0    0    0    0    0    0\n",
      "     0    0]\n",
      " [ 692  254    9    0    0    0    0    0    0    0    0    0    0    0\n",
      "     0    0]\n",
      " [  45  381  453  167    0    0    0    0    0    0    0    0    0    0\n",
      "     0    0]\n",
      " [   0   20  182  550  230   14    0    0    0    0    0    0    0    0\n",
      "     0    0]\n",
      " [   0    2   17  246  521  233   12    2    0    0    0    0    0    0\n",
      "     0    0]\n",
      " [   0    0    1   25  232  526  169   58    6    0    0    0    0    0\n",
      "     0    0]\n",
      " [   0    0    0    3   34  330  311  218   74   14    1    0    0    0\n",
      "     0    0]\n",
      " [   0    0    0    0    4   95  247  257  253  121   13    0    0    0\n",
      "     0    0]\n",
      " [   0    0    0    0    0   30  121  237  254  252   64    0    0    0\n",
      "     0    0]\n",
      " [   0    0    0    0    0    4   16   74  203  394  308   16    0    0\n",
      "     0    0]\n",
      " [   0    0    0    0    0    0    3    8   52  199  596  135    9    0\n",
      "     0    0]\n",
      " [   0    0    0    0    0    0    0    0    0    8  156  430  353   24\n",
      "    46    8]\n",
      " [   0    0    0    0    0    0    0    0    0    0   36  247  455   29\n",
      "   192   47]\n",
      " [   0    0    0    0    0    0    0    0    0    0    6  126  401   41\n",
      "   282  130]\n",
      " [   0    0    0    0    0    0    0    0    0    0    1   53  252   36\n",
      "   357  286]\n",
      " [   0    0    0    0    0    0    0    0    0    0    0    5   66   14\n",
      "   262  640]]\n",
      "Escenario: IPG, Info: Tags\n",
      "Datos ya disponibles de IPG/data.pickle\n",
      "500/500 [==============================] - 0s 832us/step - loss: 1.4278 - accuracy: 0.3884\n"
     ]
    },
    {
     "name": "stderr",
     "output_type": "stream",
     "text": [
      "/usr/local/lib/python3.6/dist-packages/tensorflow/python/keras/engine/sequential.py:450: UserWarning: `model.predict_classes()` is deprecated and will be removed after 2021-01-01. Please use instead:* `np.argmax(model.predict(x), axis=-1)`,   if your model does multi-class classification   (e.g. if it uses a `softmax` last-layer activation).* `(model.predict(x) > 0.5).astype(\"int32\")`,   if your model does binary classification   (e.g. if it uses a `sigmoid` last-layer activation).\n",
      "  warnings.warn('`model.predict_classes()` is deprecated and '\n"
     ]
    },
    {
     "name": "stdout",
     "output_type": "stream",
     "text": [
      "Accuracy: 38.84%\n",
      "Confussion matrix:\n",
      "[[985   2   0   0   0   0   0   0   0   0   0   0   0   0   0   0]\n",
      " [547 420  69   0   0   0   0   0   0   0   0   0   0   0   0   0]\n",
      " [ 12 140 682 147   4   5   0   0   0   0   0   0   0   0   0   0]\n",
      " [  0   4 194 487 265  77   4   0   0   0   0   0   0   0   0   0]\n",
      " [  0   0  21 168 673  71 100   1   0   0   0   0   0   0   0   0]\n",
      " [  0   0 137 394 348 103   8   0   0   0   0   0   0   0   0   0]\n",
      " [  0   0   0   3 115   0 581 143  62  16   0   0   0   0   0   0]\n",
      " [  0   0   0   0  18   0 367 262 216 155   5   0   0   0   0   0]\n",
      " [  0   0   0   0   7   0 229 233 224 262  31   1   0   0   0   3]\n",
      " [  0   0   0   0   0   0  39  73 163 436 166  24   0   0  48  46]\n",
      " [  0   0   0   0   0   0   3  13  44 288 232  57   0   0 259 123]\n",
      " [  0   0   0   0   0   0   2   3  20 207 233  67   0   0 320 168]\n",
      " [  0   0   0   0   0   0   0   0   0  41 100  23   0   0 699 110]\n",
      " [  0   0   0   0   0   0   0   1   3  74 137  31   0   0 589 122]\n",
      " [  0   0   0   0   0   0   0   0   6  55 117  27   0   0 623 123]\n",
      " [  0   0   0   0   0   0   0   4   8 129 195  54   0   0 567 127]]\n",
      "Escenario: SGG, Info: Tags\n",
      "Datos ya disponibles de SGG/data.pickle\n",
      "500/500 [==============================] - 0s 831us/step - loss: 1.1800 - accuracy: 0.4826\n"
     ]
    },
    {
     "name": "stderr",
     "output_type": "stream",
     "text": [
      "/usr/local/lib/python3.6/dist-packages/tensorflow/python/keras/engine/sequential.py:450: UserWarning: `model.predict_classes()` is deprecated and will be removed after 2021-01-01. Please use instead:* `np.argmax(model.predict(x), axis=-1)`,   if your model does multi-class classification   (e.g. if it uses a `softmax` last-layer activation).* `(model.predict(x) > 0.5).astype(\"int32\")`,   if your model does binary classification   (e.g. if it uses a `sigmoid` last-layer activation).\n",
      "  warnings.warn('`model.predict_classes()` is deprecated and '\n"
     ]
    },
    {
     "name": "stdout",
     "output_type": "stream",
     "text": [
      "Accuracy: 48.26%\n",
      "Confussion matrix:\n",
      "[[963   0   0   0   0   0   0   0   0   0   0   0   0   0   0   0]\n",
      " [712 278   5   0   0   0   0   0   0   0   0   0   0   0   0   0]\n",
      " [ 34 355 537 101   8   0   0   0   0   0   0   0   0   0   0   0]\n",
      " [  3  29 260 460 214  31   0   0   0   0   0   0   0   0   0   0]\n",
      " [  0   0  25 213 403 296  16   2   0   0   0   0   0   0   0   0]\n",
      " [  0   0   1  32 145 646 145  60   7   0   0   0   0   0   0   0]\n",
      " [  0   0   0   2  21 362 268 219 117  16   0   0   0   0   0   0]\n",
      " [  0   0   0   0   1  98 175 290 296 135   5   0   0   0   0   0]\n",
      " [  0   0   0   0   0  31  96 216 362 261  34   0   0   0   0   0]\n",
      " [  0   0   0   0   0   3  13  63 232 443 226  24   0   0   0   0]\n",
      " [  0   0   0   0   0   1   0   5  49 285 468 166   5   0   0   0]\n",
      " [  0   0   0   0   0   0   0   0   0  10 118 534 212  72  67   3]\n",
      " [  0   0   0   0   0   0   0   0   0   2  18 329 270 164 206  37]\n",
      " [  0   0   0   0   0   0   0   0   0   0   3 170 193 161 294 153]\n",
      " [  0   0   0   0   0   0   0   0   0   0   1  61 130 151 351 292]\n",
      " [  0   0   0   0   0   0   0   0   0   0   0   7  33  59 267 663]]\n",
      "Escenario: SMM, Info: Tags\n",
      "Datos ya disponibles de SMM/data.pickle\n",
      "500/500 [==============================] - 0s 806us/step - loss: 0.5500 - accuracy: 0.7489\n"
     ]
    },
    {
     "name": "stderr",
     "output_type": "stream",
     "text": [
      "/usr/local/lib/python3.6/dist-packages/tensorflow/python/keras/engine/sequential.py:450: UserWarning: `model.predict_classes()` is deprecated and will be removed after 2021-01-01. Please use instead:* `np.argmax(model.predict(x), axis=-1)`,   if your model does multi-class classification   (e.g. if it uses a `softmax` last-layer activation).* `(model.predict(x) > 0.5).astype(\"int32\")`,   if your model does binary classification   (e.g. if it uses a `sigmoid` last-layer activation).\n",
      "  warnings.warn('`model.predict_classes()` is deprecated and '\n"
     ]
    },
    {
     "name": "stdout",
     "output_type": "stream",
     "text": [
      "Accuracy: 74.89%\n",
      "Confussion matrix:\n",
      "[[2061    1    0    0    0    0    0    0]\n",
      " [  70 1763  142    0    0    0    0    0]\n",
      " [   0  213 1396  396    1    0    0    0]\n",
      " [   0    2  329 1463  228    1    0    0]\n",
      " [   0    0    0  166 1492  341    0    0]\n",
      " [   0    0    0    1  242 1448  293   17]\n",
      " [   0    0    0    0    1  276 1075  625]\n",
      " [   0    0    0    0    0   54  641 1262]]\n",
      "Escenario: SGP, Info: Tags\n",
      "Datos ya disponibles de SGP/data.pickle\n",
      "500/500 [==============================] - 0s 813us/step - loss: 0.0369 - accuracy: 0.9864\n"
     ]
    },
    {
     "name": "stderr",
     "output_type": "stream",
     "text": [
      "/usr/local/lib/python3.6/dist-packages/tensorflow/python/keras/engine/sequential.py:450: UserWarning: `model.predict_classes()` is deprecated and will be removed after 2021-01-01. Please use instead:* `np.argmax(model.predict(x), axis=-1)`,   if your model does multi-class classification   (e.g. if it uses a `softmax` last-layer activation).* `(model.predict(x) > 0.5).astype(\"int32\")`,   if your model does binary classification   (e.g. if it uses a `sigmoid` last-layer activation).\n",
      "  warnings.warn('`model.predict_classes()` is deprecated and '\n"
     ]
    },
    {
     "name": "stdout",
     "output_type": "stream",
     "text": [
      "Accuracy: 98.64%\n",
      "Confussion matrix:\n",
      "[[3947    0    0    0]\n",
      " [   1 3949   18    0]\n",
      " [   0   13 3931   91]\n",
      " [   0    0   95 3955]]\n",
      "Escenario: IGM, Info: Tags\n",
      "Datos ya disponibles de IGM/data.pickle\n",
      "500/500 [==============================] - 0s 812us/step - loss: 0.5519 - accuracy: 0.7499\n"
     ]
    },
    {
     "name": "stderr",
     "output_type": "stream",
     "text": [
      "/usr/local/lib/python3.6/dist-packages/tensorflow/python/keras/engine/sequential.py:450: UserWarning: `model.predict_classes()` is deprecated and will be removed after 2021-01-01. Please use instead:* `np.argmax(model.predict(x), axis=-1)`,   if your model does multi-class classification   (e.g. if it uses a `softmax` last-layer activation).* `(model.predict(x) > 0.5).astype(\"int32\")`,   if your model does binary classification   (e.g. if it uses a `sigmoid` last-layer activation).\n",
      "  warnings.warn('`model.predict_classes()` is deprecated and '\n"
     ]
    },
    {
     "name": "stdout",
     "output_type": "stream",
     "text": [
      "Accuracy: 74.99%\n",
      "Confussion matrix:\n",
      "[[1988    4    0    0    0    0    0    0]\n",
      " [  22 1864  130    0    0    0    0    0]\n",
      " [   0  243 1501  275    0    0    0    0]\n",
      " [   0    0  398 1384  167    0    0    0]\n",
      " [   0    0    0  242 1502  253    1    0]\n",
      " [   0    0    0    0  300 1312  343    6]\n",
      " [   0    0    0    0    2  229 1194  608]\n",
      " [   0    0    0    0    0   48  729 1255]]\n",
      "Escenario: IPP, Info: Tags\n",
      "Datos ya disponibles de IPP/data.pickle\n",
      "500/500 [==============================] - 0s 804us/step - loss: 0.1512 - accuracy: 0.9354\n"
     ]
    },
    {
     "name": "stderr",
     "output_type": "stream",
     "text": [
      "/usr/local/lib/python3.6/dist-packages/tensorflow/python/keras/engine/sequential.py:450: UserWarning: `model.predict_classes()` is deprecated and will be removed after 2021-01-01. Please use instead:* `np.argmax(model.predict(x), axis=-1)`,   if your model does multi-class classification   (e.g. if it uses a `softmax` last-layer activation).* `(model.predict(x) > 0.5).astype(\"int32\")`,   if your model does binary classification   (e.g. if it uses a `sigmoid` last-layer activation).\n",
      "  warnings.warn('`model.predict_classes()` is deprecated and '\n"
     ]
    },
    {
     "name": "stdout",
     "output_type": "stream",
     "text": [
      "Accuracy: 93.54%\n",
      "Confussion matrix:\n",
      "[[3938    0    0    0]\n",
      " [   1 4014   16    0]\n",
      " [   0   13 3614  454]\n",
      " [   0    0  550 3400]]\n",
      "Escenario: IGG, Info: Tags\n",
      "Datos ya disponibles de IGG/data.pickle\n",
      "500/500 [==============================] - 0s 831us/step - loss: 1.1834 - accuracy: 0.4815\n"
     ]
    },
    {
     "name": "stderr",
     "output_type": "stream",
     "text": [
      "/usr/local/lib/python3.6/dist-packages/tensorflow/python/keras/engine/sequential.py:450: UserWarning: `model.predict_classes()` is deprecated and will be removed after 2021-01-01. Please use instead:* `np.argmax(model.predict(x), axis=-1)`,   if your model does multi-class classification   (e.g. if it uses a `softmax` last-layer activation).* `(model.predict(x) > 0.5).astype(\"int32\")`,   if your model does binary classification   (e.g. if it uses a `sigmoid` last-layer activation).\n",
      "  warnings.warn('`model.predict_classes()` is deprecated and '\n"
     ]
    },
    {
     "name": "stdout",
     "output_type": "stream",
     "text": [
      "Accuracy: 48.15%\n",
      "Confussion matrix:\n",
      "[[976   0   0   0   0   0   0   0   0   0   0   0   0   0   0   0]\n",
      " [700 271  11   0   0   0   0   0   0   0   0   0   0   0   0   0]\n",
      " [ 39 341 445 138   6   0   0   0   0   0   0   0   0   0   0   0]\n",
      " [  0  27 198 540 232  24   0   0   0   0   0   0   0   0   0   0]\n",
      " [  0   0  18 260 516 228  14   3   0   0   0   0   0   0   0   0]\n",
      " [  0   0   0  23 215 486 166 105   5   0   1   0   0   0   0   0]\n",
      " [  0   0   0   2  47 250 246 349  56  16   1   0   0   0   0   0]\n",
      " [  0   0   0   0   3  67 140 446 247  95  14   0   0   0   0   0]\n",
      " [  0   0   0   0   0  33  65 306 274 231  47   0   0   0   0   0]\n",
      " [  0   0   0   0   0   4   9 103 200 456 267  13   0   0   0   0]\n",
      " [  0   0   0   0   0   0   0  18  59 279 603 120   7   0   0   0]\n",
      " [  0   0   0   0   0   0   0   0   0  11 165 398 332  33  22  13]\n",
      " [  0   0   0   0   0   0   0   0   0   1  41 236 465  80 127  76]\n",
      " [  0   0   0   0   0   0   0   0   0   0   4 111 365 114 171 195]\n",
      " [  0   0   0   0   0   0   0   0   0   0   3  37 270 137 178 399]\n",
      " [  0   0   0   0   0   0   0   0   0   0   0   7  79  62 133 674]]\n",
      "Escenario: CMG, Info: Tags\n",
      "Datos ya disponibles de CMG/data.pickle\n",
      "500/500 [==============================] - 0s 838us/step - loss: 1.1770 - accuracy: 0.4890\n"
     ]
    },
    {
     "name": "stderr",
     "output_type": "stream",
     "text": [
      "/usr/local/lib/python3.6/dist-packages/tensorflow/python/keras/engine/sequential.py:450: UserWarning: `model.predict_classes()` is deprecated and will be removed after 2021-01-01. Please use instead:* `np.argmax(model.predict(x), axis=-1)`,   if your model does multi-class classification   (e.g. if it uses a `softmax` last-layer activation).* `(model.predict(x) > 0.5).astype(\"int32\")`,   if your model does binary classification   (e.g. if it uses a `sigmoid` last-layer activation).\n",
      "  warnings.warn('`model.predict_classes()` is deprecated and '\n"
     ]
    },
    {
     "name": "stdout",
     "output_type": "stream",
     "text": [
      "Accuracy: 48.90%\n",
      "Confussion matrix:\n",
      "[[1034    0    0    0    0    0    0    0    0    0    0    0    0    0\n",
      "     0    0]\n",
      " [ 664  285    6    1    0    0    0    0    0    0    0    0    0    0\n",
      "     0    0]\n",
      " [  39  367  429  153    3    0    0    0    0    0    0    0    0    0\n",
      "     0    0]\n",
      " [   0   16  190  510  202   27    1    0    0    0    0    0    0    0\n",
      "     0    0]\n",
      " [   0    1   24  224  464  233   14    2    0    0    0    0    0    0\n",
      "     0    0]\n",
      " [   0    0    1   28  219  581  158   62    2    1    0    0    0    0\n",
      "     0    0]\n",
      " [   0    0    0    3   35  326  250  256   68    4    1    0    0    0\n",
      "     0    0]\n",
      " [   0    0    0    0    6  103  173  389  247  108   10    0    0    0\n",
      "     0    0]\n",
      " [   0    0    0    0    2   31   68  300  342  217   52    0    0    0\n",
      "     0    0]\n",
      " [   0    0    0    0    0    2   12   93  225  388  272   19    0    0\n",
      "     0    0]\n",
      " [   0    0    0    0    0    0    0   10   67  231  559  114    2    0\n",
      "     0    0]\n",
      " [   0    0    0    0    0    0    0    0    1    2  156  434  299   27\n",
      "    13   12]\n",
      " [   0    0    0    0    0    0    0    0    0    1   34  271  483   83\n",
      "    58  100]\n",
      " [   0    0    0    0    0    0    0    0    0    0   12  147  415  106\n",
      "   101  239]\n",
      " [   0    0    0    0    0    0    0    0    0    0    3   61  295  133\n",
      "   119  396]\n",
      " [   0    0    0    0    0    0    0    0    0    0    0    5  104   75\n",
      "    86  803]]\n",
      "Escenario: CPM, Info: Tags\n",
      "Datos ya disponibles de CPM/data.pickle\n",
      "500/500 [==============================] - 0s 838us/step - loss: 0.5757 - accuracy: 0.7339\n"
     ]
    },
    {
     "name": "stderr",
     "output_type": "stream",
     "text": [
      "/usr/local/lib/python3.6/dist-packages/tensorflow/python/keras/engine/sequential.py:450: UserWarning: `model.predict_classes()` is deprecated and will be removed after 2021-01-01. Please use instead:* `np.argmax(model.predict(x), axis=-1)`,   if your model does multi-class classification   (e.g. if it uses a `softmax` last-layer activation).* `(model.predict(x) > 0.5).astype(\"int32\")`,   if your model does binary classification   (e.g. if it uses a `sigmoid` last-layer activation).\n",
      "  warnings.warn('`model.predict_classes()` is deprecated and '\n"
     ]
    },
    {
     "name": "stdout",
     "output_type": "stream",
     "text": [
      "Accuracy: 73.39%\n",
      "Confussion matrix:\n",
      "[[1961    0    0    0    0    0    0    0]\n",
      " [  78 1681  241    1    0    0    0    0]\n",
      " [   0  151 1483  372    0    0    0    0]\n",
      " [   0    1  301 1486  170    0    0    0]\n",
      " [   0    0    0  229 1408  334    2    0]\n",
      " [   0    0    0    4  413 1415  254   15]\n",
      " [   0    0    0    0    3  304  894  784]\n",
      " [   0    0    0    0    0   72  570 1373]]\n",
      "Escenario: CMP, Info: Tags\n",
      "Datos ya disponibles de CMP/data.pickle\n",
      "500/500 [==============================] - 0s 798us/step - loss: 0.0357 - accuracy: 0.9867\n"
     ]
    },
    {
     "name": "stderr",
     "output_type": "stream",
     "text": [
      "/usr/local/lib/python3.6/dist-packages/tensorflow/python/keras/engine/sequential.py:450: UserWarning: `model.predict_classes()` is deprecated and will be removed after 2021-01-01. Please use instead:* `np.argmax(model.predict(x), axis=-1)`,   if your model does multi-class classification   (e.g. if it uses a `softmax` last-layer activation).* `(model.predict(x) > 0.5).astype(\"int32\")`,   if your model does binary classification   (e.g. if it uses a `sigmoid` last-layer activation).\n",
      "  warnings.warn('`model.predict_classes()` is deprecated and '\n"
     ]
    },
    {
     "name": "stdout",
     "output_type": "stream",
     "text": [
      "Accuracy: 98.67%\n",
      "Confussion matrix:\n",
      "[[4010    0    0    0]\n",
      " [   1 4085   11    0]\n",
      " [   0    5 3841   93]\n",
      " [   0    0  103 3851]]\n",
      "Escenario: CGP, Info: Tags\n",
      "Datos ya disponibles de CGP/data.pickle\n",
      "500/500 [==============================] - 0s 857us/step - loss: 0.0355 - accuracy: 0.9879\n"
     ]
    },
    {
     "name": "stderr",
     "output_type": "stream",
     "text": [
      "/usr/local/lib/python3.6/dist-packages/tensorflow/python/keras/engine/sequential.py:450: UserWarning: `model.predict_classes()` is deprecated and will be removed after 2021-01-01. Please use instead:* `np.argmax(model.predict(x), axis=-1)`,   if your model does multi-class classification   (e.g. if it uses a `softmax` last-layer activation).* `(model.predict(x) > 0.5).astype(\"int32\")`,   if your model does binary classification   (e.g. if it uses a `sigmoid` last-layer activation).\n",
      "  warnings.warn('`model.predict_classes()` is deprecated and '\n"
     ]
    },
    {
     "name": "stdout",
     "output_type": "stream",
     "text": [
      "Accuracy: 98.79%\n",
      "Confussion matrix:\n",
      "[[4082    0    0    0]\n",
      " [   1 4055   10    0]\n",
      " [   0   16 3800   81]\n",
      " [   0    0   85 3870]]\n",
      "Escenario: SPP, Info: Tags\n",
      "Datos ya disponibles de SPP/data.pickle\n",
      "500/500 [==============================] - 0s 802us/step - loss: 0.1091 - accuracy: 0.9546\n"
     ]
    },
    {
     "name": "stderr",
     "output_type": "stream",
     "text": [
      "/usr/local/lib/python3.6/dist-packages/tensorflow/python/keras/engine/sequential.py:450: UserWarning: `model.predict_classes()` is deprecated and will be removed after 2021-01-01. Please use instead:* `np.argmax(model.predict(x), axis=-1)`,   if your model does multi-class classification   (e.g. if it uses a `softmax` last-layer activation).* `(model.predict(x) > 0.5).astype(\"int32\")`,   if your model does binary classification   (e.g. if it uses a `sigmoid` last-layer activation).\n",
      "  warnings.warn('`model.predict_classes()` is deprecated and '\n"
     ]
    },
    {
     "name": "stdout",
     "output_type": "stream",
     "text": [
      "Accuracy: 95.46%\n",
      "Confussion matrix:\n",
      "[[3942    0    0    0]\n",
      " [   0 4116    6    0]\n",
      " [   0   13 3562  332]\n",
      " [   0    0  375 3654]]\n",
      "Escenario: IPM, Info: Tags\n",
      "Datos ya disponibles de IPM/data.pickle\n",
      "500/500 [==============================] - 0s 804us/step - loss: 0.6905 - accuracy: 0.6799\n"
     ]
    },
    {
     "name": "stderr",
     "output_type": "stream",
     "text": [
      "/usr/local/lib/python3.6/dist-packages/tensorflow/python/keras/engine/sequential.py:450: UserWarning: `model.predict_classes()` is deprecated and will be removed after 2021-01-01. Please use instead:* `np.argmax(model.predict(x), axis=-1)`,   if your model does multi-class classification   (e.g. if it uses a `softmax` last-layer activation).* `(model.predict(x) > 0.5).astype(\"int32\")`,   if your model does binary classification   (e.g. if it uses a `sigmoid` last-layer activation).\n",
      "  warnings.warn('`model.predict_classes()` is deprecated and '\n"
     ]
    },
    {
     "name": "stdout",
     "output_type": "stream",
     "text": [
      "Accuracy: 67.99%\n",
      "Confussion matrix:\n",
      "[[2052    4    0    0    0    0    0    0]\n",
      " [  30 1707  206    0    0    0    0    0]\n",
      " [   0  154 1565  271    2    0    0    0]\n",
      " [   0    1  434 1313  238    1    0    0]\n",
      " [   0    0    3  245 1498  236   15    2]\n",
      " [   0    0    0    2  234  787  450  529]\n",
      " [   0    0    0    0  161  697  463  699]\n",
      " [   0    0    0    0   11  188  309 1493]]\n",
      "Escenario: CMM, Info: Tags\n",
      "Datos ya disponibles de CMM/data.pickle\n",
      "500/500 [==============================] - 0s 802us/step - loss: 0.5501 - accuracy: 0.7517\n"
     ]
    },
    {
     "name": "stderr",
     "output_type": "stream",
     "text": [
      "/usr/local/lib/python3.6/dist-packages/tensorflow/python/keras/engine/sequential.py:450: UserWarning: `model.predict_classes()` is deprecated and will be removed after 2021-01-01. Please use instead:* `np.argmax(model.predict(x), axis=-1)`,   if your model does multi-class classification   (e.g. if it uses a `softmax` last-layer activation).* `(model.predict(x) > 0.5).astype(\"int32\")`,   if your model does binary classification   (e.g. if it uses a `sigmoid` last-layer activation).\n",
      "  warnings.warn('`model.predict_classes()` is deprecated and '\n"
     ]
    },
    {
     "name": "stdout",
     "output_type": "stream",
     "text": [
      "Accuracy: 75.17%\n",
      "Confussion matrix:\n",
      "[[2018    5    0    0    0    0    0    0]\n",
      " [  31 1783  215    0    0    0    0    0]\n",
      " [   0  156 1557  288    1    0    0    0]\n",
      " [   0    1  410 1423  174    0    0    0]\n",
      " [   0    0    0  226 1411  298    3    0]\n",
      " [   0    0    0    0  276 1452  273   12]\n",
      " [   0    0    0    0    3  278  990  701]\n",
      " [   0    0    0    0    0   51  562 1402]]\n",
      "Escenario: SMG, Info: Tags\n",
      "Datos ya disponibles de SMG/data.pickle\n",
      "500/500 [==============================] - 0s 804us/step - loss: 1.1973 - accuracy: 0.4767\n"
     ]
    },
    {
     "name": "stderr",
     "output_type": "stream",
     "text": [
      "/usr/local/lib/python3.6/dist-packages/tensorflow/python/keras/engine/sequential.py:450: UserWarning: `model.predict_classes()` is deprecated and will be removed after 2021-01-01. Please use instead:* `np.argmax(model.predict(x), axis=-1)`,   if your model does multi-class classification   (e.g. if it uses a `softmax` last-layer activation).* `(model.predict(x) > 0.5).astype(\"int32\")`,   if your model does binary classification   (e.g. if it uses a `sigmoid` last-layer activation).\n",
      "  warnings.warn('`model.predict_classes()` is deprecated and '\n"
     ]
    },
    {
     "name": "stdout",
     "output_type": "stream",
     "text": [
      "Accuracy: 47.67%\n",
      "Confussion matrix:\n",
      "[[1008    0    0    0    0    0    0    0    0    0    0    0    0    0\n",
      "     0    0]\n",
      " [ 705  272   11    0    0    0    0    0    0    0    0    0    0    0\n",
      "     0    0]\n",
      " [  43  301  433  176    6    0    0    0    0    0    0    0    0    0\n",
      "     0    0]\n",
      " [   0   20  177  528  253   21    0    0    0    0    0    0    0    0\n",
      "     0    0]\n",
      " [   0    1   14  222  457  245   28    3    0    0    0    0    0    0\n",
      "     0    0]\n",
      " [   0    0    1   47  284  445  202   32    3    1    0    0    0    0\n",
      "     0    0]\n",
      " [   0    0    0    1   42  211  408  228   90   16    0    0    0    0\n",
      "     0    0]\n",
      " [   0    0    0    0    3   52  206  294  271  123   13    0    0    0\n",
      "     0    0]\n",
      " [   0    0    0    0    1   11  100  242  365  230   54    0    0    0\n",
      "     0    0]\n",
      " [   0    0    0    0    0    1   11   61  207  395  258   13    0    0\n",
      "     0    0]\n",
      " [   0    0    0    0    0    0    0    3   43  258  563  133    6    0\n",
      "     0    0]\n",
      " [   0    0    0    0    0    0    0    0    1    6  134  500  190  114\n",
      "    56   15]\n",
      " [   0    0    0    0    0    0    0    0    0    0   29  268  217  224\n",
      "   188   99]\n",
      " [   0    0    0    0    0    0    0    0    0    0    8  163  149  213\n",
      "   245  249]\n",
      " [   0    0    0    0    0    0    0    0    0    1    4   54   94  153\n",
      "   298  410]\n",
      " [   0    0    0    0    0    0    0    0    0    0    1   26   66  106\n",
      "   230  637]]\n",
      "Escenario: IMM, Info: Tags\n",
      "Datos ya disponibles de IMM/data.pickle\n",
      "500/500 [==============================] - 0s 840us/step - loss: 0.5474 - accuracy: 0.7501\n"
     ]
    },
    {
     "name": "stderr",
     "output_type": "stream",
     "text": [
      "/usr/local/lib/python3.6/dist-packages/tensorflow/python/keras/engine/sequential.py:450: UserWarning: `model.predict_classes()` is deprecated and will be removed after 2021-01-01. Please use instead:* `np.argmax(model.predict(x), axis=-1)`,   if your model does multi-class classification   (e.g. if it uses a `softmax` last-layer activation).* `(model.predict(x) > 0.5).astype(\"int32\")`,   if your model does binary classification   (e.g. if it uses a `sigmoid` last-layer activation).\n",
      "  warnings.warn('`model.predict_classes()` is deprecated and '\n"
     ]
    },
    {
     "name": "stdout",
     "output_type": "stream",
     "text": [
      "Accuracy: 75.01%\n",
      "Confussion matrix:\n",
      "[[2074    0    0    0    0    0    0    0]\n",
      " [  85 1744  122    0    0    0    0    0]\n",
      " [   0  215 1365  367    2    0    0    0]\n",
      " [   0    4  338 1534  221    0    0    0]\n",
      " [   0    0    0  204 1539  281    0    0]\n",
      " [   0    0    0    2  285 1360  285   12]\n",
      " [   0    0    0    0    3  327 1053  635]\n",
      " [   0    0    0    0    0   60  587 1296]]\n"
     ]
    }
   ],
   "source": [
    "escenarios={'CGG','CGM','CGP','CMG','CMM','CMP','CPG','CPM','CPP','IGG','IGM','IGP','IMG','IMM','IMP','IPG','IPM','IPP','SGG','SGM','SGP','SMG','SMM','SMP','SPG','SPM','SPP'}\n",
    "infoset={'Full','Basic','Tags'}\n",
    "\n",
    "for info in infoset:\n",
    "    for escenario in escenarios:\n",
    "        # %tensorboard --logdir f'{escenario}/log'   -> Descomentar para ver la evolucion del entrenamiento\n",
    "        print(f'Escenario: {escenario}, Info: {info}')\n",
    "        X, t = readdataset(escenario)\n",
    "        precision, conf = evalmodel(X,t,escenario,info)\n",
    "        print(f'Accuracy: {precision*100:0.2f}%\\nConfussion matrix:\\n{conf}')"
   ]
  },
  {
   "cell_type": "code",
   "execution_count": null,
   "metadata": {
    "id": "QZd3BWtLKyo_"
   },
   "outputs": [],
   "source": []
  }
 ],
 "metadata": {
  "colab": {
   "collapsed_sections": [],
   "name": "Copy of cajas.ipynb",
   "provenance": [
    {
     "file_id": "1qwtjUnWmhDHNNHNwnTjWngVzVhwskhHR",
     "timestamp": 1609103292608
    }
   ]
  },
  "kernelspec": {
   "display_name": "Python 3 (ipykernel)",
   "language": "python",
   "name": "python3"
  },
  "language_info": {
   "codemirror_mode": {
    "name": "ipython",
    "version": 3
   },
   "file_extension": ".py",
   "mimetype": "text/x-python",
   "name": "python",
   "nbconvert_exporter": "python",
   "pygments_lexer": "ipython3",
   "version": "3.11.4"
  },
  "nbTranslate": {
   "displayLangs": [
    "*"
   ],
   "hotkey": "alt-t",
   "langInMainMenu": true,
   "sourceLang": "en",
   "targetLang": "fr",
   "useGoogleTranslate": true
  },
  "toc": {
   "base_numbering": 1,
   "nav_menu": {},
   "number_sections": true,
   "sideBar": true,
   "skip_h1_title": true,
   "title_cell": "Table of Contents",
   "title_sidebar": "Contents",
   "toc_cell": false,
   "toc_position": {
    "height": "1163px",
    "left": "1185.6px",
    "top": "111.133px",
    "width": "344.4px"
   },
   "toc_section_display": true,
   "toc_window_display": true
  }
 },
 "nbformat": 4,
 "nbformat_minor": 4
}
